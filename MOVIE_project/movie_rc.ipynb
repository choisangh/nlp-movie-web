{
 "cells": [
  {
   "cell_type": "markdown",
   "id": "superior-clothing",
   "metadata": {},
   "source": [
    "<img src='logo.png'>"
   ]
  },
  {
   "cell_type": "markdown",
   "id": "jewish-contact",
   "metadata": {},
   "source": [
    "<font size=6><b>kaggle The Movies Dataset</b></font>\n",
    "* Metadata on over 45,000 movies. 26 million ratings from over 270,000 users.\n",
    "* ref : https://www.kaggle.com/rounakbanik/the-movies-dataset"
   ]
  },
  {
   "cell_type": "code",
   "execution_count": 1,
   "id": "appropriate-accident",
   "metadata": {},
   "outputs": [
    {
     "data": {
      "text/html": [
       "<style>.container{width:100% !important;}</style>"
      ],
      "text/plain": [
       "<IPython.core.display.HTML object>"
      ]
     },
     "metadata": {},
     "output_type": "display_data"
    }
   ],
   "source": [
    "import pandas as pd\n",
    "import numpy as np\n",
    "import matplotlib.pyplot as plt\n",
    "import seaborn as sns\n",
    "\n",
    "from sklearn.feature_extraction.text import TfidfVectorizer\n",
    "from sklearn.feature_extraction.text import CountVectorizer\n",
    "\n",
    "from sklearn.metrics.pairwise import cosine_similarity\n",
    "from sklearn.metrics.pairwise import linear_kernel \n",
    "from ast import literal_eval\n",
    "\n",
    "import warnings \n",
    "warnings.simplefilter('ignore')\n",
    "\n",
    "from IPython.core.display import display, HTML\n",
    "display(HTML(\"<style>.container{width:100% !important;}</style>\"))\n",
    "pd.set_option('display.max_rows', 100)\n",
    "pd.set_option('display.max_columns', 100)\n",
    "pd.set_option('max_colwidth', None)\n"
   ]
  },
  {
   "cell_type": "markdown",
   "id": "union-impact",
   "metadata": {},
   "source": [
    "# Data Load\n",
    "<pre>\n",
    "genres : 영화 장르\n",
    "keywords : 영화의 키워드\n",
    "original_language : 영화 언어\n",
    "title : 제목\n",
    "vote_average : 평점 평균\n",
    "vote_count : 평점 카운트\n",
    "popularity : 인기도\n",
    "overview : 개요 설명\n",
    "</pre>"
   ]
  },
  {
   "cell_type": "code",
   "execution_count": 2,
   "id": "productive-surgeon",
   "metadata": {},
   "outputs": [],
   "source": [
    "mdf = pd.read_csv(\"./dataset/movies_metadata_2.csv\")"
   ]
  },
  {
   "cell_type": "code",
   "execution_count": 3,
   "id": "brutal-bullet",
   "metadata": {},
   "outputs": [
    {
     "name": "stdout",
     "output_type": "stream",
     "text": [
      "(45466, 25)\n",
      "<class 'pandas.core.frame.DataFrame'>\n",
      "RangeIndex: 45466 entries, 0 to 45465\n",
      "Data columns (total 25 columns):\n",
      " #   Column                 Non-Null Count  Dtype  \n",
      "---  ------                 --------------  -----  \n",
      " 0   adult                  45466 non-null  object \n",
      " 1   belongs_to_collection  4494 non-null   object \n",
      " 2   budget                 45466 non-null  object \n",
      " 3   genres                 45466 non-null  object \n",
      " 4   homepage               7782 non-null   object \n",
      " 5   id                     45466 non-null  object \n",
      " 6   imdb_id                45449 non-null  object \n",
      " 7   original_language      45455 non-null  object \n",
      " 8   original_title         45466 non-null  object \n",
      " 9   overview               44512 non-null  object \n",
      " 10  popularity             45461 non-null  object \n",
      " 11  poster_path            45080 non-null  object \n",
      " 12  production_companies   45463 non-null  object \n",
      " 13  production_countries   45463 non-null  object \n",
      " 14  release_date           45379 non-null  object \n",
      " 15  revenue                45460 non-null  float64\n",
      " 16  runtime                45203 non-null  float64\n",
      " 17  spoken_languages       45460 non-null  object \n",
      " 18  status                 45379 non-null  object \n",
      " 19  tagline                20412 non-null  object \n",
      " 20  title                  45460 non-null  object \n",
      " 21  video                  45460 non-null  object \n",
      " 22  vote_average           45460 non-null  float64\n",
      " 23  vote_count             45460 non-null  float64\n",
      " 24  year                   45466 non-null  object \n",
      "dtypes: float64(4), object(21)\n",
      "memory usage: 8.7+ MB\n",
      "None\n"
     ]
    },
    {
     "data": {
      "text/html": [
       "<div>\n",
       "<style scoped>\n",
       "    .dataframe tbody tr th:only-of-type {\n",
       "        vertical-align: middle;\n",
       "    }\n",
       "\n",
       "    .dataframe tbody tr th {\n",
       "        vertical-align: top;\n",
       "    }\n",
       "\n",
       "    .dataframe thead th {\n",
       "        text-align: right;\n",
       "    }\n",
       "</style>\n",
       "<table border=\"1\" class=\"dataframe\">\n",
       "  <thead>\n",
       "    <tr style=\"text-align: right;\">\n",
       "      <th></th>\n",
       "      <th>adult</th>\n",
       "      <th>belongs_to_collection</th>\n",
       "      <th>budget</th>\n",
       "      <th>genres</th>\n",
       "      <th>homepage</th>\n",
       "      <th>id</th>\n",
       "      <th>imdb_id</th>\n",
       "      <th>original_language</th>\n",
       "      <th>original_title</th>\n",
       "      <th>overview</th>\n",
       "      <th>popularity</th>\n",
       "      <th>poster_path</th>\n",
       "      <th>production_companies</th>\n",
       "      <th>production_countries</th>\n",
       "      <th>release_date</th>\n",
       "      <th>revenue</th>\n",
       "      <th>runtime</th>\n",
       "      <th>spoken_languages</th>\n",
       "      <th>status</th>\n",
       "      <th>tagline</th>\n",
       "      <th>title</th>\n",
       "      <th>video</th>\n",
       "      <th>vote_average</th>\n",
       "      <th>vote_count</th>\n",
       "      <th>year</th>\n",
       "    </tr>\n",
       "  </thead>\n",
       "  <tbody>\n",
       "    <tr>\n",
       "      <th>0</th>\n",
       "      <td>False</td>\n",
       "      <td>{'id': 10194, 'name': 'Toy Story Collection', 'poster_path': '/7G9915LfUQ2lVfwMEEhDsn3kT4B.jpg', 'backdrop_path': '/9FBwqcd9IRruEDUrTdcaafOMKUq.jpg'}</td>\n",
       "      <td>30000000</td>\n",
       "      <td>['Animation', 'Comedy', 'Family']</td>\n",
       "      <td>http://toystory.disney.com/toy-story</td>\n",
       "      <td>862</td>\n",
       "      <td>tt0114709</td>\n",
       "      <td>en</td>\n",
       "      <td>Toy Story</td>\n",
       "      <td>Led by Woody, Andy's toys live happily in his room until Andy's birthday brings Buzz Lightyear onto the scene. Afraid of losing his place in Andy's heart, Woody plots against Buzz. But when circumstances separate Buzz and Woody from their owner, the duo eventually learns to put aside their differences.</td>\n",
       "      <td>21.946943</td>\n",
       "      <td>/rhIRbceoE9lR4veEXuwCC2wARtG.jpg</td>\n",
       "      <td>[{'name': 'Pixar Animation Studios', 'id': 3}]</td>\n",
       "      <td>[{'iso_3166_1': 'US', 'name': 'United States of America'}]</td>\n",
       "      <td>1995-10-30</td>\n",
       "      <td>373554033.0</td>\n",
       "      <td>81.0</td>\n",
       "      <td>[{'iso_639_1': 'en', 'name': 'English'}]</td>\n",
       "      <td>Released</td>\n",
       "      <td>NaN</td>\n",
       "      <td>Toy Story</td>\n",
       "      <td>False</td>\n",
       "      <td>7.7</td>\n",
       "      <td>5415.0</td>\n",
       "      <td>1995</td>\n",
       "    </tr>\n",
       "  </tbody>\n",
       "</table>\n",
       "</div>"
      ],
      "text/plain": [
       "   adult  \\\n",
       "0  False   \n",
       "\n",
       "                                                                                                                                   belongs_to_collection  \\\n",
       "0  {'id': 10194, 'name': 'Toy Story Collection', 'poster_path': '/7G9915LfUQ2lVfwMEEhDsn3kT4B.jpg', 'backdrop_path': '/9FBwqcd9IRruEDUrTdcaafOMKUq.jpg'}   \n",
       "\n",
       "     budget                             genres  \\\n",
       "0  30000000  ['Animation', 'Comedy', 'Family']   \n",
       "\n",
       "                               homepage   id    imdb_id original_language  \\\n",
       "0  http://toystory.disney.com/toy-story  862  tt0114709                en   \n",
       "\n",
       "  original_title  \\\n",
       "0      Toy Story   \n",
       "\n",
       "                                                                                                                                                                                                                                                                                                          overview  \\\n",
       "0  Led by Woody, Andy's toys live happily in his room until Andy's birthday brings Buzz Lightyear onto the scene. Afraid of losing his place in Andy's heart, Woody plots against Buzz. But when circumstances separate Buzz and Woody from their owner, the duo eventually learns to put aside their differences.   \n",
       "\n",
       "  popularity                       poster_path  \\\n",
       "0  21.946943  /rhIRbceoE9lR4veEXuwCC2wARtG.jpg   \n",
       "\n",
       "                             production_companies  \\\n",
       "0  [{'name': 'Pixar Animation Studios', 'id': 3}]   \n",
       "\n",
       "                                         production_countries release_date  \\\n",
       "0  [{'iso_3166_1': 'US', 'name': 'United States of America'}]   1995-10-30   \n",
       "\n",
       "       revenue  runtime                          spoken_languages    status  \\\n",
       "0  373554033.0     81.0  [{'iso_639_1': 'en', 'name': 'English'}]  Released   \n",
       "\n",
       "  tagline      title  video  vote_average  vote_count  year  \n",
       "0     NaN  Toy Story  False           7.7      5415.0  1995  "
      ]
     },
     "execution_count": 3,
     "metadata": {},
     "output_type": "execute_result"
    }
   ],
   "source": [
    "print(mdf.shape)\n",
    "print(mdf.info())\n",
    "mdf.head(1)"
   ]
  },
  {
   "cell_type": "markdown",
   "id": "steady-yukon",
   "metadata": {},
   "source": [
    "## id 중 오데이터"
   ]
  },
  {
   "cell_type": "code",
   "execution_count": 4,
   "id": "formed-federation",
   "metadata": {},
   "outputs": [],
   "source": [
    "idx = mdf[mdf['id'].str.len()>6].index\n",
    "mdf = mdf.drop(idx, axis=0)\n",
    "mdf = mdf.reset_index(drop=True)"
   ]
  },
  {
   "cell_type": "code",
   "execution_count": 5,
   "id": "blank-ethiopia",
   "metadata": {},
   "outputs": [],
   "source": [
    "mdf['id'] = mdf['id'].astype('int')"
   ]
  },
  {
   "cell_type": "markdown",
   "id": "possible-benjamin",
   "metadata": {},
   "source": [
    "# Weighted Rarking  (Top %)\n",
    "* vote, average"
   ]
  },
  {
   "cell_type": "markdown",
   "id": "living-formula",
   "metadata": {},
   "source": [
    "* url : https://www.quora.com/How-does-IMDbs-rating-system-work<br>\n",
    "<img src = 'imdb_score.png' width=600>"
   ]
  },
  {
   "cell_type": "markdown",
   "id": "sorted-meeting",
   "metadata": {},
   "source": [
    "## WR 구하기"
   ]
  },
  {
   "cell_type": "markdown",
   "id": "accepted-queen",
   "metadata": {},
   "source": [
    "* WR = (v / (v+m)) * R + (m/ (v+m)) *C\n",
    "* R : 영화의 평점\n",
    "* v : 영화의 투표수\n",
    "* m : 상위 %안에 들어야 하는 최소 투표수\n",
    "* C : 개별 영화의 평점"
   ]
  },
  {
   "cell_type": "code",
   "execution_count": 6,
   "id": "entitled-wound",
   "metadata": {},
   "outputs": [
    {
     "data": {
      "text/plain": [
       "5.618207215134184"
      ]
     },
     "execution_count": 6,
     "metadata": {},
     "output_type": "execute_result"
    }
   ],
   "source": [
    "C = mdf['vote_average'].mean()\n",
    "C"
   ]
  },
  {
   "cell_type": "code",
   "execution_count": 7,
   "id": "native-engagement",
   "metadata": {},
   "outputs": [
    {
     "data": {
      "text/plain": [
       "434.0"
      ]
     },
     "execution_count": 7,
     "metadata": {},
     "output_type": "execute_result"
    }
   ],
   "source": [
    "m = mdf['vote_count'].quantile(0.95)\n",
    "m"
   ]
  },
  {
   "cell_type": "code",
   "execution_count": 8,
   "id": "rapid-vacation",
   "metadata": {},
   "outputs": [],
   "source": [
    "def my_calc_wr(mdf):\n",
    "    R = mdf['vote_average']\n",
    "    v = mdf['vote_count']\n",
    "    WR = (v / (v+m)) * R + (m/ (v+m)) *C\n",
    "    return WR"
   ]
  },
  {
   "cell_type": "code",
   "execution_count": 9,
   "id": "three-heater",
   "metadata": {},
   "outputs": [],
   "source": [
    "mdf['wr'] = mdf.apply(my_calc_wr, axis=1)"
   ]
  },
  {
   "cell_type": "code",
   "execution_count": 10,
   "id": "backed-roots",
   "metadata": {},
   "outputs": [
    {
     "data": {
      "text/html": [
       "<div>\n",
       "<style scoped>\n",
       "    .dataframe tbody tr th:only-of-type {\n",
       "        vertical-align: middle;\n",
       "    }\n",
       "\n",
       "    .dataframe tbody tr th {\n",
       "        vertical-align: top;\n",
       "    }\n",
       "\n",
       "    .dataframe thead th {\n",
       "        text-align: right;\n",
       "    }\n",
       "</style>\n",
       "<table border=\"1\" class=\"dataframe\">\n",
       "  <thead>\n",
       "    <tr style=\"text-align: right;\">\n",
       "      <th></th>\n",
       "      <th>adult</th>\n",
       "      <th>belongs_to_collection</th>\n",
       "      <th>budget</th>\n",
       "      <th>genres</th>\n",
       "      <th>homepage</th>\n",
       "      <th>id</th>\n",
       "      <th>imdb_id</th>\n",
       "      <th>original_language</th>\n",
       "      <th>original_title</th>\n",
       "      <th>overview</th>\n",
       "      <th>popularity</th>\n",
       "      <th>poster_path</th>\n",
       "      <th>production_companies</th>\n",
       "      <th>production_countries</th>\n",
       "      <th>release_date</th>\n",
       "      <th>revenue</th>\n",
       "      <th>runtime</th>\n",
       "      <th>spoken_languages</th>\n",
       "      <th>status</th>\n",
       "      <th>tagline</th>\n",
       "      <th>title</th>\n",
       "      <th>video</th>\n",
       "      <th>vote_average</th>\n",
       "      <th>vote_count</th>\n",
       "      <th>year</th>\n",
       "      <th>wr</th>\n",
       "    </tr>\n",
       "  </thead>\n",
       "  <tbody>\n",
       "    <tr>\n",
       "      <th>0</th>\n",
       "      <td>False</td>\n",
       "      <td>{'id': 10194, 'name': 'Toy Story Collection', 'poster_path': '/7G9915LfUQ2lVfwMEEhDsn3kT4B.jpg', 'backdrop_path': '/9FBwqcd9IRruEDUrTdcaafOMKUq.jpg'}</td>\n",
       "      <td>30000000</td>\n",
       "      <td>['Animation', 'Comedy', 'Family']</td>\n",
       "      <td>http://toystory.disney.com/toy-story</td>\n",
       "      <td>862</td>\n",
       "      <td>tt0114709</td>\n",
       "      <td>en</td>\n",
       "      <td>Toy Story</td>\n",
       "      <td>Led by Woody, Andy's toys live happily in his room until Andy's birthday brings Buzz Lightyear onto the scene. Afraid of losing his place in Andy's heart, Woody plots against Buzz. But when circumstances separate Buzz and Woody from their owner, the duo eventually learns to put aside their differences.</td>\n",
       "      <td>21.946943</td>\n",
       "      <td>/rhIRbceoE9lR4veEXuwCC2wARtG.jpg</td>\n",
       "      <td>[{'name': 'Pixar Animation Studios', 'id': 3}]</td>\n",
       "      <td>[{'iso_3166_1': 'US', 'name': 'United States of America'}]</td>\n",
       "      <td>1995-10-30</td>\n",
       "      <td>373554033.0</td>\n",
       "      <td>81.0</td>\n",
       "      <td>[{'iso_639_1': 'en', 'name': 'English'}]</td>\n",
       "      <td>Released</td>\n",
       "      <td>NaN</td>\n",
       "      <td>Toy Story</td>\n",
       "      <td>False</td>\n",
       "      <td>7.7</td>\n",
       "      <td>5415.0</td>\n",
       "      <td>1995</td>\n",
       "      <td>7.545529</td>\n",
       "    </tr>\n",
       "  </tbody>\n",
       "</table>\n",
       "</div>"
      ],
      "text/plain": [
       "   adult  \\\n",
       "0  False   \n",
       "\n",
       "                                                                                                                                   belongs_to_collection  \\\n",
       "0  {'id': 10194, 'name': 'Toy Story Collection', 'poster_path': '/7G9915LfUQ2lVfwMEEhDsn3kT4B.jpg', 'backdrop_path': '/9FBwqcd9IRruEDUrTdcaafOMKUq.jpg'}   \n",
       "\n",
       "     budget                             genres  \\\n",
       "0  30000000  ['Animation', 'Comedy', 'Family']   \n",
       "\n",
       "                               homepage   id    imdb_id original_language  \\\n",
       "0  http://toystory.disney.com/toy-story  862  tt0114709                en   \n",
       "\n",
       "  original_title  \\\n",
       "0      Toy Story   \n",
       "\n",
       "                                                                                                                                                                                                                                                                                                          overview  \\\n",
       "0  Led by Woody, Andy's toys live happily in his room until Andy's birthday brings Buzz Lightyear onto the scene. Afraid of losing his place in Andy's heart, Woody plots against Buzz. But when circumstances separate Buzz and Woody from their owner, the duo eventually learns to put aside their differences.   \n",
       "\n",
       "  popularity                       poster_path  \\\n",
       "0  21.946943  /rhIRbceoE9lR4veEXuwCC2wARtG.jpg   \n",
       "\n",
       "                             production_companies  \\\n",
       "0  [{'name': 'Pixar Animation Studios', 'id': 3}]   \n",
       "\n",
       "                                         production_countries release_date  \\\n",
       "0  [{'iso_3166_1': 'US', 'name': 'United States of America'}]   1995-10-30   \n",
       "\n",
       "       revenue  runtime                          spoken_languages    status  \\\n",
       "0  373554033.0     81.0  [{'iso_639_1': 'en', 'name': 'English'}]  Released   \n",
       "\n",
       "  tagline      title  video  vote_average  vote_count  year        wr  \n",
       "0     NaN  Toy Story  False           7.7      5415.0  1995  7.545529  "
      ]
     },
     "execution_count": 10,
     "metadata": {},
     "output_type": "execute_result"
    }
   ],
   "source": [
    "mdf.head(1)"
   ]
  },
  {
   "cell_type": "markdown",
   "id": "united-occasion",
   "metadata": {},
   "source": [
    "## 상위 % 데이터만 가져오기"
   ]
  },
  {
   "cell_type": "code",
   "execution_count": 11,
   "id": "solar-municipality",
   "metadata": {},
   "outputs": [
    {
     "data": {
      "text/plain": [
       "(2268, 7)"
      ]
     },
     "execution_count": 11,
     "metadata": {},
     "output_type": "execute_result"
    }
   ],
   "source": [
    "df5 = mdf[mdf['vote_count'] > 434.0][[ 'id','title', 'genres', 'vote_average', 'vote_count', 'year', 'wr' ]]\n",
    "df5.shape"
   ]
  },
  {
   "cell_type": "code",
   "execution_count": 12,
   "id": "bronze-wheat",
   "metadata": {},
   "outputs": [
    {
     "data": {
      "text/html": [
       "<div>\n",
       "<style scoped>\n",
       "    .dataframe tbody tr th:only-of-type {\n",
       "        vertical-align: middle;\n",
       "    }\n",
       "\n",
       "    .dataframe tbody tr th {\n",
       "        vertical-align: top;\n",
       "    }\n",
       "\n",
       "    .dataframe thead th {\n",
       "        text-align: right;\n",
       "    }\n",
       "</style>\n",
       "<table border=\"1\" class=\"dataframe\">\n",
       "  <thead>\n",
       "    <tr style=\"text-align: right;\">\n",
       "      <th></th>\n",
       "      <th>id</th>\n",
       "      <th>title</th>\n",
       "      <th>genres</th>\n",
       "      <th>vote_average</th>\n",
       "      <th>vote_count</th>\n",
       "      <th>year</th>\n",
       "      <th>wr</th>\n",
       "    </tr>\n",
       "  </thead>\n",
       "  <tbody>\n",
       "    <tr>\n",
       "      <th>0</th>\n",
       "      <td>862</td>\n",
       "      <td>Toy Story</td>\n",
       "      <td>['Animation', 'Comedy', 'Family']</td>\n",
       "      <td>7.7</td>\n",
       "      <td>5415.0</td>\n",
       "      <td>1995</td>\n",
       "      <td>7.545529</td>\n",
       "    </tr>\n",
       "    <tr>\n",
       "      <th>1</th>\n",
       "      <td>8844</td>\n",
       "      <td>Jumanji</td>\n",
       "      <td>['Adventure', 'Fantasy', 'Family']</td>\n",
       "      <td>6.9</td>\n",
       "      <td>2413.0</td>\n",
       "      <td>1995</td>\n",
       "      <td>6.704602</td>\n",
       "    </tr>\n",
       "  </tbody>\n",
       "</table>\n",
       "</div>"
      ],
      "text/plain": [
       "     id      title                              genres  vote_average  \\\n",
       "0   862  Toy Story   ['Animation', 'Comedy', 'Family']           7.7   \n",
       "1  8844    Jumanji  ['Adventure', 'Fantasy', 'Family']           6.9   \n",
       "\n",
       "   vote_count  year        wr  \n",
       "0      5415.0  1995  7.545529  \n",
       "1      2413.0  1995  6.704602  "
      ]
     },
     "execution_count": 12,
     "metadata": {},
     "output_type": "execute_result"
    }
   ],
   "source": [
    "df5.head(2)"
   ]
  },
  {
   "cell_type": "code",
   "execution_count": 13,
   "id": "irish-jacket",
   "metadata": {},
   "outputs": [
    {
     "name": "stdout",
     "output_type": "stream",
     "text": [
      "<class 'pandas.core.frame.DataFrame'>\n",
      "Int64Index: 2268 entries, 0 to 45011\n",
      "Data columns (total 7 columns):\n",
      " #   Column        Non-Null Count  Dtype  \n",
      "---  ------        --------------  -----  \n",
      " 0   id            2268 non-null   int32  \n",
      " 1   title         2268 non-null   object \n",
      " 2   genres        2268 non-null   object \n",
      " 3   vote_average  2268 non-null   float64\n",
      " 4   vote_count    2268 non-null   float64\n",
      " 5   year          2268 non-null   object \n",
      " 6   wr            2268 non-null   float64\n",
      "dtypes: float64(3), int32(1), object(3)\n",
      "memory usage: 132.9+ KB\n"
     ]
    }
   ],
   "source": [
    "df5.info()"
   ]
  },
  {
   "cell_type": "markdown",
   "id": "published-attempt",
   "metadata": {},
   "source": [
    "## 장르 검색"
   ]
  },
  {
   "cell_type": "code",
   "execution_count": 14,
   "id": "pacific-institute",
   "metadata": {},
   "outputs": [
    {
     "data": {
      "text/plain": [
       "0            ['Animation', 'Comedy', 'Family']\n",
       "1           ['Adventure', 'Fantasy', 'Family']\n",
       "5     ['Action', 'Crime', 'Drama', 'Thriller']\n",
       "9          ['Adventure', 'Action', 'Thriller']\n",
       "15                          ['Drama', 'Crime']\n",
       "Name: genres, dtype: object"
      ]
     },
     "execution_count": 14,
     "metadata": {},
     "output_type": "execute_result"
    }
   ],
   "source": [
    "df5['genres'].head()"
   ]
  },
  {
   "cell_type": "code",
   "execution_count": 15,
   "id": "desirable-digit",
   "metadata": {},
   "outputs": [
    {
     "data": {
      "text/plain": [
       "(\"['Animation', 'Comedy', 'Family']\", str)"
      ]
     },
     "execution_count": 15,
     "metadata": {},
     "output_type": "execute_result"
    }
   ],
   "source": [
    "df5.loc[0, 'genres'],  type(df5.loc[0, 'genres'])"
   ]
  },
  {
   "cell_type": "code",
   "execution_count": 16,
   "id": "loaded-identification",
   "metadata": {},
   "outputs": [
    {
     "data": {
      "text/plain": [
       "False"
      ]
     },
     "execution_count": 16,
     "metadata": {},
     "output_type": "execute_result"
    }
   ],
   "source": [
    "'c' in 'AAA'"
   ]
  },
  {
   "cell_type": "code",
   "execution_count": 17,
   "id": "incorrect-console",
   "metadata": {
    "tags": []
   },
   "outputs": [
    {
     "data": {
      "text/html": [
       "<div>\n",
       "<style scoped>\n",
       "    .dataframe tbody tr th:only-of-type {\n",
       "        vertical-align: middle;\n",
       "    }\n",
       "\n",
       "    .dataframe tbody tr th {\n",
       "        vertical-align: top;\n",
       "    }\n",
       "\n",
       "    .dataframe thead th {\n",
       "        text-align: right;\n",
       "    }\n",
       "</style>\n",
       "<table border=\"1\" class=\"dataframe\">\n",
       "  <thead>\n",
       "    <tr style=\"text-align: right;\">\n",
       "      <th></th>\n",
       "      <th>id</th>\n",
       "      <th>title</th>\n",
       "      <th>genres</th>\n",
       "      <th>vote_average</th>\n",
       "      <th>vote_count</th>\n",
       "      <th>year</th>\n",
       "      <th>wr</th>\n",
       "    </tr>\n",
       "  </thead>\n",
       "  <tbody>\n",
       "    <tr>\n",
       "      <th>0</th>\n",
       "      <td>862</td>\n",
       "      <td>Toy Story</td>\n",
       "      <td>['Animation', 'Comedy', 'Family']</td>\n",
       "      <td>7.7</td>\n",
       "      <td>5415.0</td>\n",
       "      <td>1995</td>\n",
       "      <td>7.545529</td>\n",
       "    </tr>\n",
       "    <tr>\n",
       "      <th>1</th>\n",
       "      <td>8844</td>\n",
       "      <td>Jumanji</td>\n",
       "      <td>['Adventure', 'Fantasy', 'Family']</td>\n",
       "      <td>6.9</td>\n",
       "      <td>2413.0</td>\n",
       "      <td>1995</td>\n",
       "      <td>6.704602</td>\n",
       "    </tr>\n",
       "    <tr>\n",
       "      <th>33</th>\n",
       "      <td>9598</td>\n",
       "      <td>Babe</td>\n",
       "      <td>['Fantasy', 'Drama', 'Comedy', 'Family']</td>\n",
       "      <td>6.0</td>\n",
       "      <td>756.0</td>\n",
       "      <td>1995</td>\n",
       "      <td>5.860758</td>\n",
       "    </tr>\n",
       "    <tr>\n",
       "      <th>47</th>\n",
       "      <td>10530</td>\n",
       "      <td>Pocahontas</td>\n",
       "      <td>['Adventure', 'Animation', 'Drama', 'Family']</td>\n",
       "      <td>6.7</td>\n",
       "      <td>1509.0</td>\n",
       "      <td>1995</td>\n",
       "      <td>6.458364</td>\n",
       "    </tr>\n",
       "    <tr>\n",
       "      <th>155</th>\n",
       "      <td>8839</td>\n",
       "      <td>Casper</td>\n",
       "      <td>['Fantasy', 'Comedy', 'Family']</td>\n",
       "      <td>6.0</td>\n",
       "      <td>1045.0</td>\n",
       "      <td>1995</td>\n",
       "      <td>5.887966</td>\n",
       "    </tr>\n",
       "  </tbody>\n",
       "</table>\n",
       "</div>"
      ],
      "text/plain": [
       "        id       title                                         genres  \\\n",
       "0      862   Toy Story              ['Animation', 'Comedy', 'Family']   \n",
       "1     8844     Jumanji             ['Adventure', 'Fantasy', 'Family']   \n",
       "33    9598        Babe       ['Fantasy', 'Drama', 'Comedy', 'Family']   \n",
       "47   10530  Pocahontas  ['Adventure', 'Animation', 'Drama', 'Family']   \n",
       "155   8839      Casper                ['Fantasy', 'Comedy', 'Family']   \n",
       "\n",
       "     vote_average  vote_count  year        wr  \n",
       "0             7.7      5415.0  1995  7.545529  \n",
       "1             6.9      2413.0  1995  6.704602  \n",
       "33            6.0       756.0  1995  5.860758  \n",
       "47            6.7      1509.0  1995  6.458364  \n",
       "155           6.0      1045.0  1995  5.887966  "
      ]
     },
     "execution_count": 17,
     "metadata": {},
     "output_type": "execute_result"
    }
   ],
   "source": [
    "df5[df5['genres'].str.contains('Family')].head()"
   ]
  },
  {
   "cell_type": "markdown",
   "id": "little-gospel",
   "metadata": {},
   "source": [
    "## 최종 코드"
   ]
  },
  {
   "cell_type": "code",
   "execution_count": 18,
   "id": "communist-variable",
   "metadata": {},
   "outputs": [],
   "source": [
    "def my_calc_wr_def(mdf):\n",
    "    R = mdf['vote_average']\n",
    "    v = mdf['vote_count']\n",
    "    WR = (v / (v+m)) * R + (m/ (v+m)) *C\n",
    "    return WR\n",
    "\n",
    "mdf = pd.read_csv(\"./dataset/movies_metadata_2.csv\")\n",
    "idx = mdf[mdf['id'].str.len()>6].index\n",
    "mdf = mdf.drop(idx, axis=0)\n",
    "mdf = mdf.reset_index(drop=True)\n",
    "mdf['id'] = mdf['id'].astype('int')"
   ]
  },
  {
   "cell_type": "code",
   "execution_count": 19,
   "id": "structural-watershed",
   "metadata": {},
   "outputs": [],
   "source": [
    "def my_search_wr_by_genres(search_genres ='Family', percnet=0.95):\n",
    "    C = mdf['vote_average'].mean()\n",
    "    m = mdf['vote_count'].quantile(percnet)\n",
    "    mdf['wr'] = mdf.apply(my_calc_wr_def, axis=1)\n",
    "\n",
    "    df5 = mdf[mdf['vote_count'] > m][[ 'id','title', 'genres', 'vote_average', 'vote_count', 'year', 'wr' ]]\n",
    "    df5 = df5.sort_values('wr', ascending=False)\n",
    "    return df5[df5['genres'].str.contains(search_genres)]"
   ]
  },
  {
   "cell_type": "code",
   "execution_count": 20,
   "id": "appreciated-ordering",
   "metadata": {},
   "outputs": [
    {
     "data": {
      "text/html": [
       "<div>\n",
       "<style scoped>\n",
       "    .dataframe tbody tr th:only-of-type {\n",
       "        vertical-align: middle;\n",
       "    }\n",
       "\n",
       "    .dataframe tbody tr th {\n",
       "        vertical-align: top;\n",
       "    }\n",
       "\n",
       "    .dataframe thead th {\n",
       "        text-align: right;\n",
       "    }\n",
       "</style>\n",
       "<table border=\"1\" class=\"dataframe\">\n",
       "  <thead>\n",
       "    <tr style=\"text-align: right;\">\n",
       "      <th></th>\n",
       "      <th>id</th>\n",
       "      <th>title</th>\n",
       "      <th>genres</th>\n",
       "      <th>vote_average</th>\n",
       "      <th>vote_count</th>\n",
       "      <th>year</th>\n",
       "      <th>wr</th>\n",
       "    </tr>\n",
       "  </thead>\n",
       "  <tbody>\n",
       "    <tr>\n",
       "      <th>5481</th>\n",
       "      <td>129</td>\n",
       "      <td>Spirited Away</td>\n",
       "      <td>['Fantasy', 'Adventure', 'Animation', 'Family']</td>\n",
       "      <td>8.3</td>\n",
       "      <td>3968.0</td>\n",
       "      <td>2001</td>\n",
       "      <td>8.035598</td>\n",
       "    </tr>\n",
       "    <tr>\n",
       "      <th>7000</th>\n",
       "      <td>122</td>\n",
       "      <td>The Lord of the Rings: The Return of the King</td>\n",
       "      <td>['Adventure', 'Fantasy', 'Action']</td>\n",
       "      <td>8.1</td>\n",
       "      <td>8226.0</td>\n",
       "      <td>2003</td>\n",
       "      <td>7.975624</td>\n",
       "    </tr>\n",
       "    <tr>\n",
       "      <th>3030</th>\n",
       "      <td>497</td>\n",
       "      <td>The Green Mile</td>\n",
       "      <td>['Fantasy', 'Drama', 'Crime']</td>\n",
       "      <td>8.2</td>\n",
       "      <td>4166.0</td>\n",
       "      <td>1999</td>\n",
       "      <td>7.956413</td>\n",
       "    </tr>\n",
       "    <tr>\n",
       "      <th>4863</th>\n",
       "      <td>120</td>\n",
       "      <td>The Lord of the Rings: The Fellowship of the Ring</td>\n",
       "      <td>['Adventure', 'Fantasy', 'Action']</td>\n",
       "      <td>8.0</td>\n",
       "      <td>8892.0</td>\n",
       "      <td>2001</td>\n",
       "      <td>7.889160</td>\n",
       "    </tr>\n",
       "    <tr>\n",
       "      <th>5814</th>\n",
       "      <td>121</td>\n",
       "      <td>The Lord of the Rings: The Two Towers</td>\n",
       "      <td>['Adventure', 'Fantasy', 'Action']</td>\n",
       "      <td>8.0</td>\n",
       "      <td>7641.0</td>\n",
       "      <td>2002</td>\n",
       "      <td>7.871988</td>\n",
       "    </tr>\n",
       "  </tbody>\n",
       "</table>\n",
       "</div>"
      ],
      "text/plain": [
       "       id                                              title  \\\n",
       "5481  129                                      Spirited Away   \n",
       "7000  122      The Lord of the Rings: The Return of the King   \n",
       "3030  497                                     The Green Mile   \n",
       "4863  120  The Lord of the Rings: The Fellowship of the Ring   \n",
       "5814  121              The Lord of the Rings: The Two Towers   \n",
       "\n",
       "                                               genres  vote_average  \\\n",
       "5481  ['Fantasy', 'Adventure', 'Animation', 'Family']           8.3   \n",
       "7000               ['Adventure', 'Fantasy', 'Action']           8.1   \n",
       "3030                    ['Fantasy', 'Drama', 'Crime']           8.2   \n",
       "4863               ['Adventure', 'Fantasy', 'Action']           8.0   \n",
       "5814               ['Adventure', 'Fantasy', 'Action']           8.0   \n",
       "\n",
       "      vote_count  year        wr  \n",
       "5481      3968.0  2001  8.035598  \n",
       "7000      8226.0  2003  7.975624  \n",
       "3030      4166.0  1999  7.956413  \n",
       "4863      8892.0  2001  7.889160  \n",
       "5814      7641.0  2002  7.871988  "
      ]
     },
     "execution_count": 20,
     "metadata": {},
     "output_type": "execute_result"
    }
   ],
   "source": [
    "resdf = my_search_wr_by_genres('Fantasy', 0.97)\n",
    "resdf.head()"
   ]
  },
  {
   "cell_type": "markdown",
   "id": "upset-savage",
   "metadata": {},
   "source": [
    "# Review  based"
   ]
  },
  {
   "cell_type": "markdown",
   "id": "functional-making",
   "metadata": {},
   "source": [
    "## Data Load"
   ]
  },
  {
   "cell_type": "code",
   "execution_count": null,
   "id": "proved-float",
   "metadata": {},
   "outputs": [],
   "source": [
    "ldf = pd.read_csv(\"./dataset/links_small.csv\")"
   ]
  },
  {
   "cell_type": "code",
   "execution_count": null,
   "id": "another-terrain",
   "metadata": {},
   "outputs": [],
   "source": [
    "print(ldf.shape)\n",
    "print(ldf.info())\n",
    "ldf.head(2)"
   ]
  },
  {
   "cell_type": "markdown",
   "id": "basic-explanation",
   "metadata": {},
   "source": [
    "## ldf 결측처리 "
   ]
  },
  {
   "cell_type": "code",
   "execution_count": null,
   "id": "inclusive-reaction",
   "metadata": {},
   "outputs": [],
   "source": [
    "ldf.isna().sum()"
   ]
  },
  {
   "cell_type": "code",
   "execution_count": null,
   "id": "incident-premiere",
   "metadata": {},
   "outputs": [],
   "source": [
    "ldf = ldf.dropna(axis=0)\n",
    "ldf = ldf.reset_index(drop=True)\n",
    "print(ldf.shape)"
   ]
  },
  {
   "cell_type": "code",
   "execution_count": null,
   "id": "established-sweet",
   "metadata": {},
   "outputs": [],
   "source": [
    "ldf['tmdbId'] = ldf['tmdbId'].astype('int')"
   ]
  },
  {
   "cell_type": "markdown",
   "id": "congressional-bermuda",
   "metadata": {},
   "source": [
    "## mdf +  ldf join"
   ]
  },
  {
   "cell_type": "code",
   "execution_count": null,
   "id": "following-collectible",
   "metadata": {},
   "outputs": [],
   "source": [
    "mldf = pd.merge(mdf, ldf,  left_on=\"id\", right_on='tmdbId', how=\"inner\")\n",
    "mldf.head(1)   # 추가 컬럼 movieId\timdbId\ttmdbId"
   ]
  },
  {
   "cell_type": "markdown",
   "id": "blessed-tablet",
   "metadata": {},
   "source": [
    "## mldf 결측처리"
   ]
  },
  {
   "cell_type": "code",
   "execution_count": null,
   "id": "daily-looking",
   "metadata": {},
   "outputs": [],
   "source": [
    "mldf['tagline'] = mldf['tagline'].fillna('')"
   ]
  },
  {
   "cell_type": "code",
   "execution_count": null,
   "id": "adapted-treasurer",
   "metadata": {},
   "outputs": [],
   "source": [
    "mldf['overview'] = mldf['overview'].fillna('')"
   ]
  },
  {
   "cell_type": "code",
   "execution_count": null,
   "id": "unlimited-border",
   "metadata": {},
   "outputs": [],
   "source": [
    "mldf[['overview', 'tagline']].tail(1)"
   ]
  },
  {
   "cell_type": "code",
   "execution_count": null,
   "id": "normal-significance",
   "metadata": {},
   "outputs": [],
   "source": [
    "mldf['view_tag'] = mldf['overview'] + mldf['tagline']"
   ]
  },
  {
   "cell_type": "code",
   "execution_count": null,
   "id": "fabulous-shield",
   "metadata": {},
   "outputs": [],
   "source": [
    "mldf['view_tag'].isna().sum()"
   ]
  },
  {
   "cell_type": "code",
   "execution_count": null,
   "id": "acquired-loading",
   "metadata": {},
   "outputs": [],
   "source": [
    "idx = mldf[mldf['view_tag'].str.len() < 1].index\n",
    "print(len(idx))\n",
    "mldf = mldf.drop(idx, axis=0)\n",
    "mldf = mldf.reset_index(drop=True)\n",
    "print(mldf.shape)"
   ]
  },
  {
   "cell_type": "markdown",
   "id": "eastern-elephant",
   "metadata": {},
   "source": [
    "## Tf-Idf\n",
    "* from sklearn.feature_extraction.text import TfidfVectorizer\n",
    "* from sklearn.feature_extraction.text import CountVectorizer\n",
    "* from sklearn.metrics.pairwise import cosine_similarity\n",
    "* from sklearn.metrics.pairwise import linear_kernel "
   ]
  },
  {
   "cell_type": "markdown",
   "id": "three-actor",
   "metadata": {},
   "source": [
    "class sklearn.feature_extraction.text.<font color=red><b>TfidfVectorizer</b></font>(*, input='content', encoding='utf-8', decode_error='strict', strip_accents=None, lowercase=True, preprocessor=None, tokenizer=None, analyzer='word', stop_words=None, token_pattern='(?u)\\b\\w\\w+\\b', ngram_range=(1, 1), max_df=1.0, min_df=1, max_features=None, vocabulary=None, binary=False, dtype=<class 'numpy.float64'>, norm='l2', use_idf=True, smooth_idf=True, sublinear_tf=False)[source]¶"
   ]
  },
  {
   "cell_type": "code",
   "execution_count": null,
   "id": "three-semiconductor",
   "metadata": {},
   "outputs": [],
   "source": [
    "tfidf = TfidfVectorizer( stop_words='english') #, max_df=0.8, min_df=0.2)  ngram_range=(1, 2)\n",
    "tfidf_matrix = tfidf.fit_transform(mldf['view_tag'])\n",
    "# print(tfidf.vocabulary_)\n",
    "print(tfidf_matrix.shape)"
   ]
  },
  {
   "cell_type": "code",
   "execution_count": null,
   "id": "worldwide-adoption",
   "metadata": {},
   "outputs": [],
   "source": [
    "# tfidf_matrix[20].toarray()"
   ]
  },
  {
   "cell_type": "markdown",
   "id": "broke-million",
   "metadata": {},
   "source": [
    "## 유사도 계산"
   ]
  },
  {
   "cell_type": "code",
   "execution_count": null,
   "id": "immune-peace",
   "metadata": {},
   "outputs": [],
   "source": [
    "cos_sim = cosine_similarity(tfidf_matrix, tfidf_matrix)\n",
    "# linear_kernel(tfidf_matrix, tfidf_matrix)"
   ]
  },
  {
   "cell_type": "code",
   "execution_count": null,
   "id": "infrared-reality",
   "metadata": {},
   "outputs": [],
   "source": [
    "cos_sim[0][:20]"
   ]
  },
  {
   "cell_type": "markdown",
   "id": "loved-refrigerator",
   "metadata": {},
   "source": [
    "## 영화 제목 색인 시리즈 생성\n",
    "* 제목을 입력하면 (idx)번째 출력"
   ]
  },
  {
   "cell_type": "code",
   "execution_count": null,
   "id": "jewish-zoning",
   "metadata": {},
   "outputs": [],
   "source": [
    "s  = mldf['title']\n",
    "title_s = pd.Series(s.index, index=s.values)  # 값 <--> 인덱스 서로 자리 변경\n",
    "title_s.head(10)"
   ]
  },
  {
   "cell_type": "markdown",
   "id": "verbal-murray",
   "metadata": {},
   "source": [
    "## review 유사도 top-N 검색"
   ]
  },
  {
   "cell_type": "code",
   "execution_count": null,
   "id": "gothic-classification",
   "metadata": {},
   "outputs": [],
   "source": [
    "def my_search_cossim_by_review(title = \"Toy Story\", topn=10):\n",
    "    # 인덱스 출력하기\n",
    "    s = mldf['title']\n",
    "    title_s = pd.Series(s.index, index = s.values) # 값 <--> 인덱스 변경\n",
    "    idx = title_s[title]\n",
    "    idx_list = pd.Series(cos_sim[idx].reshape(-1)).sort_values(ascending = False).index[1:topn+1] # 0번재는 본인. 1~10번째\n",
    "    title_list = mldf.loc[idx_list,'title'].values\n",
    "    return title_list"
   ]
  },
  {
   "cell_type": "code",
   "execution_count": null,
   "id": "suited-winter",
   "metadata": {},
   "outputs": [],
   "source": [
    "mldf[mldf['title'].str.contains('Toy Story')][[ 'tagline', 'title']]"
   ]
  },
  {
   "cell_type": "code",
   "execution_count": null,
   "id": "adjacent-choice",
   "metadata": {},
   "outputs": [],
   "source": [
    "res = my_search_cossim_by_review('Toy Story',5)\n",
    "res"
   ]
  },
  {
   "cell_type": "markdown",
   "id": "preceding-desperate",
   "metadata": {},
   "source": [
    "## 최종코드"
   ]
  },
  {
   "cell_type": "markdown",
   "id": "confident-scene",
   "metadata": {},
   "source": [
    "# Actor, Driect... based"
   ]
  },
  {
   "cell_type": "markdown",
   "id": "cubic-presence",
   "metadata": {},
   "source": [
    "credit.csv\n",
    "* cast<br>\n",
    "<pre>\n",
    "[{'cast_id': 14, 'character': 'Woody (voice)', 'credit_id': '52fe4284c3a36847f8024f95', 'gender': 2, 'id': 31, 'name': 'Tom Hanks', 'order': 0, 'profile_path': '/pQFoyx7rp09CJTAb932F2g8Nlho.jpg'},\n",
    " {'cast_id': 15, 'character': 'Buzz Lightyear (voice)', 'credit_id': '52fe4284c3a36847f8024f99', 'gender': 2, 'id': 12898, 'name': 'Tim Allen', 'order': 1, 'profile_path': '/uX2xVf6pMmPepxnvFWyBtjexzgY.jpg'}\n",
    "]</pre>\n",
    "\n",
    "* craw <br>\n",
    "[{'credit_id': '52fe4284c3a36847f8024f49', 'department': 'Directing', 'gender': 2, 'id': 7879, 'job': 'Director', 'name': 'John Lasseter', 'profile_path': '/7EdqiNbr4FRjIhKHyPPdFfEEEFG.jpg'}, \n",
    " {'credit_id': '52fe4284c3a36847f8024f4f', 'department': 'Writing', 'gender': 2, 'id': 12891, 'job': 'Screenplay', 'name': 'Joss Whedon', 'profile_path': '/dTiVsuaTVTeGmvkhcyJvKp2A5kr.jpg'},]\n",
    "\n",
    "keywords.csv\n",
    "* keywords<br>\n",
    "<pre>\n",
    "[{'id': 931, 'name': 'jealousy'}, {'id': 4290, 'name': 'toy'}, {'id': 5202, 'name': 'boy'},]\n"
   ]
  },
  {
   "cell_type": "markdown",
   "id": "periodic-continent",
   "metadata": {},
   "source": [
    "## Data Load"
   ]
  },
  {
   "cell_type": "code",
   "execution_count": null,
   "id": "frank-functionality",
   "metadata": {},
   "outputs": [],
   "source": [
    "cdf = pd.read_csv(\"./dataset/credits.csv\")\n",
    "kdf = pd.read_csv(\"./dataset/keywords.csv\")"
   ]
  },
  {
   "cell_type": "code",
   "execution_count": null,
   "id": "wireless-graduate",
   "metadata": {},
   "outputs": [],
   "source": [
    "print(cdf.shape)\n",
    "print(cdf.info())\n",
    "# cdf.head(1)"
   ]
  },
  {
   "cell_type": "code",
   "execution_count": null,
   "id": "unlikely-combining",
   "metadata": {},
   "outputs": [],
   "source": [
    "print(kdf.shape)\n",
    "print(kdf.info())\n",
    "kdf.head(1)"
   ]
  },
  {
   "cell_type": "markdown",
   "id": "limiting-gothic",
   "metadata": {},
   "source": [
    "## mldf = mdf + ldf + cdf + kdf  JOIN"
   ]
  },
  {
   "cell_type": "code",
   "execution_count": null,
   "id": "ranking-material",
   "metadata": {},
   "outputs": [],
   "source": [
    "mldf = mldf.merge(cdf, on='id')\n",
    "mldf = mldf.merge(kdf, on='id')  #cast\tcrew\tkeywords 추가"
   ]
  },
  {
   "cell_type": "code",
   "execution_count": null,
   "id": "rolled-encyclopedia",
   "metadata": {},
   "outputs": [],
   "source": [
    "# mldf.head(1)"
   ]
  },
  {
   "cell_type": "code",
   "execution_count": null,
   "id": "gross-electricity",
   "metadata": {},
   "outputs": [],
   "source": [
    "mldf.shape"
   ]
  },
  {
   "cell_type": "markdown",
   "id": "understood-angola",
   "metadata": {},
   "source": [
    "## 가공\n",
    "* <b>str --> list 객체타입으로 변경   :  .apply(literal_eval)</b>\n",
    "<pre>\n",
    "* cast  {name': 'Tom Hanks' }\n",
    "[{'cast_id': 14, 'character': 'Woody (voice)', 'credit_id': '52fe4284c3a36847f8024f95', 'gender': 2, 'id': 31, 'name': 'Tom Hanks', 'order': 0, 'profile_path': '/pQFoyx7rp09CJTAb932F2g8Nlho.jpg'},\n",
    "\n",
    "* craw  {'job': 'Director', 'name': 'John Lasseter'}\n",
    " [{'credit_id': '52fe4284c3a36847f8024f49', 'department': 'Directing', 'gender': 2, 'id': 7879, 'job': 'Director', 'name': 'John Lasseter', 'profile_path': '/7EdqiNbr4FRjIhKHyPPdFfEEEFG.jpg'}, {'credit_id': '52fe4284c3a36847f8024f4f', 'department': 'Writing', 'gender': 2, 'id': 12891, 'job': 'Screenplay', 'name': 'Joss Whedon', 'profile_path': '/dTiVsuaTVTeGmvkhcyJvKp2A5kr.jpg'},]\n",
    "\n",
    "*  keywords {'name': 'jealousy'}\n",
    " [{'id': 931, 'name': 'jealousy'},]\n",
    " \n",
    " * genres"
   ]
  },
  {
   "cell_type": "code",
   "execution_count": null,
   "id": "otherwise-baptist",
   "metadata": {},
   "outputs": [],
   "source": [
    "type(mldf.loc[0, 'keywords'])"
   ]
  },
  {
   "cell_type": "code",
   "execution_count": null,
   "id": "completed-attendance",
   "metadata": {},
   "outputs": [],
   "source": [
    "mldf['cast']     = mldf['cast'].apply(literal_eval)      #배우\n",
    "mldf['crew']     = mldf['crew'].apply(literal_eval)      #감독\n",
    "mldf['keywords'] = mldf['keywords'].apply(literal_eval)  #대표키워드\n",
    "mldf['genres']   = mldf['genres'].apply(literal_eval)    #장르"
   ]
  },
  {
   "cell_type": "code",
   "execution_count": null,
   "id": "waiting-responsibility",
   "metadata": {},
   "outputs": [],
   "source": [
    "type(mldf.loc[0, 'keywords']),  mldf.loc[0, 'keywords'][:3]"
   ]
  },
  {
   "cell_type": "markdown",
   "id": "postal-sunday",
   "metadata": {},
   "source": [
    "## 파생변수 \n",
    "* BoW = [감독] + [배우] + [장르] + [키워드]\n",
    "* Tf-Idf : 유사도"
   ]
  },
  {
   "cell_type": "markdown",
   "id": "exterior-worcester",
   "metadata": {},
   "source": [
    "###  감독 : mldf['director']"
   ]
  },
  {
   "cell_type": "code",
   "execution_count": null,
   "id": "occupational-howard",
   "metadata": {},
   "outputs": [],
   "source": [
    "def my_get_director_def(s):       #[{'job': 'Director', 'name': 'John Lasseter'} , .... ]\n",
    "    for dict in s:                #{'job': 'Director', 'name': 'John Lasseter'}\n",
    "        if dict['job'] == 'Director':\n",
    "            dict['name'] = dict['name'].replace(' ', '')\n",
    "            return [dict['name'].lower()]  # [john lasseter]\n",
    "    return np.nan"
   ]
  },
  {
   "cell_type": "code",
   "execution_count": null,
   "id": "emerging-kuwait",
   "metadata": {},
   "outputs": [],
   "source": [
    "mldf['director'] = mldf['crew'].apply(my_get_director_def)"
   ]
  },
  {
   "cell_type": "code",
   "execution_count": null,
   "id": "appropriate-accuracy",
   "metadata": {},
   "outputs": [],
   "source": [
    "mldf['director'].head()"
   ]
  },
  {
   "cell_type": "markdown",
   "id": "driven-radar",
   "metadata": {},
   "source": [
    "###  배우 : mldf['actor']"
   ]
  },
  {
   "cell_type": "code",
   "execution_count": null,
   "id": "better-choice",
   "metadata": {},
   "outputs": [],
   "source": [
    "def my_get_name_def(s):      \n",
    "    cast_list = []\n",
    "    for dict in s:           \n",
    "        dict['name'] = dict['name'].replace(' ', '')\n",
    "        cast_list.append(dict['name'].lower())\n",
    "    return cast_list[:3]"
   ]
  },
  {
   "cell_type": "code",
   "execution_count": null,
   "id": "retained-adoption",
   "metadata": {},
   "outputs": [],
   "source": [
    "mldf['actor'] = mldf['cast'].apply(my_get_name_def)"
   ]
  },
  {
   "cell_type": "code",
   "execution_count": null,
   "id": "cubic-france",
   "metadata": {},
   "outputs": [],
   "source": [
    "mldf['actor'].head()"
   ]
  },
  {
   "cell_type": "markdown",
   "id": "sound-literacy",
   "metadata": {},
   "source": [
    "### 키워드 : mldf['key']"
   ]
  },
  {
   "cell_type": "code",
   "execution_count": null,
   "id": "capable-round",
   "metadata": {},
   "outputs": [],
   "source": [
    "mldf['key'] = mldf['keywords'].apply(my_get_name_def)"
   ]
  },
  {
   "cell_type": "code",
   "execution_count": null,
   "id": "instructional-memory",
   "metadata": {},
   "outputs": [],
   "source": [
    "mldf['key'].head()"
   ]
  },
  {
   "cell_type": "markdown",
   "id": "loved-strength",
   "metadata": {},
   "source": [
    "###  장르"
   ]
  },
  {
   "cell_type": "code",
   "execution_count": null,
   "id": "finite-cruise",
   "metadata": {},
   "outputs": [],
   "source": [
    "mldf['genres'].head()"
   ]
  },
  {
   "cell_type": "markdown",
   "id": "amber-arbitration",
   "metadata": {},
   "source": [
    "### 합치기 : mldf['search4']"
   ]
  },
  {
   "cell_type": "code",
   "execution_count": null,
   "id": "standing-capital",
   "metadata": {},
   "outputs": [],
   "source": [
    "# mldf['search4'] =  mldf['director'] + mldf['actor'] + mldf['key'] + mldf['genres']\n",
    "mldf['search4'] = mldf['director'] + mldf['actor'] + mldf['key'] + mldf['genres']\n",
    "mldf['search4'].head()"
   ]
  },
  {
   "cell_type": "code",
   "execution_count": null,
   "id": "contrary-guard",
   "metadata": {},
   "outputs": [],
   "source": []
  },
  {
   "cell_type": "markdown",
   "id": "requested-basis",
   "metadata": {},
   "source": [
    "---\n",
    "<font size=4><b> review  유사도와 이하 상동\n",
    "\n",
    "---"
   ]
  },
  {
   "cell_type": "markdown",
   "id": "muslim-number",
   "metadata": {},
   "source": [
    "## 유사도 "
   ]
  },
  {
   "cell_type": "code",
   "execution_count": null,
   "id": "prepared-disabled",
   "metadata": {},
   "outputs": [],
   "source": [
    "type(mldf.loc[0, 'search4'])"
   ]
  },
  {
   "cell_type": "code",
   "execution_count": null,
   "id": "dental-chile",
   "metadata": {},
   "outputs": [],
   "source": [
    "mldf['search4'] = mldf['search4'].astype('str')"
   ]
  },
  {
   "cell_type": "code",
   "execution_count": null,
   "id": "limiting-appliance",
   "metadata": {},
   "outputs": [],
   "source": [
    "tfidf = CountVectorizer() #, max_df=0.8, min_df=0.2)  ngram_range=(1, 2)\n",
    "matrix = tfidf.fit_transform(mldf['search4'])\n",
    "print(matrix.shape)\n",
    "\n",
    "cos_sim = cosine_similarity(matrix, matrix)\n",
    "cos_sim[0][:20]\n"
   ]
  },
  {
   "cell_type": "markdown",
   "id": "obvious-buddy",
   "metadata": {},
   "source": [
    "## 영화 제목 색인 시리즈 생성\n",
    "* 제목을 입력하면 (idx)번째 출력"
   ]
  },
  {
   "cell_type": "code",
   "execution_count": null,
   "id": "fundamental-visitor",
   "metadata": {},
   "outputs": [],
   "source": [
    "s  = mldf['title']\n",
    "title_s = pd.Series(s.index, index=s.values)  # 값 <--> 인덱스 서로 자리 변경\n",
    "title_s.head(10)"
   ]
  },
  {
   "cell_type": "markdown",
   "id": "absent-rendering",
   "metadata": {},
   "source": [
    "## review 유사도 top-N 검색"
   ]
  },
  {
   "cell_type": "code",
   "execution_count": null,
   "id": "positive-rider",
   "metadata": {},
   "outputs": [],
   "source": [
    "def my_search_cossim_by_search4(title = \"Toy Story\", topn=10):\n",
    "    # 인덱스 출력하기\n",
    "    s =  mldf['title']\n",
    "    title_s = pd.Series(s.index, index = s.values) # 값 <--> 인덱스 변경\n",
    "    idx = title_s[title]\n",
    "    print(idx)\n",
    "    idx_list = pd.Series(cos_sim[idx].reshape(-1)).sort_values(ascending = False).index[1:topn+1] # 0번재는 본인. 1~10번째\n",
    "    title_list = mldf.loc[idx_list,'title'].values\n",
    "    return title_list"
   ]
  },
  {
   "cell_type": "code",
   "execution_count": null,
   "id": "million-automation",
   "metadata": {},
   "outputs": [],
   "source": [
    "res = my_search_cossim_by_search4('Toy Story',5)   #Batman Forever\n",
    "res"
   ]
  },
  {
   "cell_type": "markdown",
   "id": "graphic-trading",
   "metadata": {},
   "source": [
    "## 검증"
   ]
  },
  {
   "cell_type": "code",
   "execution_count": null,
   "id": "integral-generic",
   "metadata": {},
   "outputs": [],
   "source": [
    "mldf.loc[0, ['title','search4']]"
   ]
  },
  {
   "cell_type": "code",
   "execution_count": null,
   "id": "scheduled-attempt",
   "metadata": {},
   "outputs": [],
   "source": [
    "for r in res :\n",
    "    print(mldf[mldf['title']==r][['title','search4']].values)"
   ]
  },
  {
   "cell_type": "markdown",
   "id": "synthetic-dutch",
   "metadata": {},
   "source": [
    "## 최종코드"
   ]
  }
 ],
 "metadata": {
  "kernelspec": {
   "display_name": "Python 3 (ipykernel)",
   "language": "python",
   "name": "python3"
  },
  "language_info": {
   "codemirror_mode": {
    "name": "ipython",
    "version": 3
   },
   "file_extension": ".py",
   "mimetype": "text/x-python",
   "name": "python",
   "nbconvert_exporter": "python",
   "pygments_lexer": "ipython3",
   "version": "3.8.8"
  },
  "toc-autonumbering": true
 },
 "nbformat": 4,
 "nbformat_minor": 5
}
