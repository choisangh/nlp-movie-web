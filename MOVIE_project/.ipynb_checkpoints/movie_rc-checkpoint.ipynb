{
 "cells": [
  {
   "cell_type": "markdown",
   "id": "revised-statistics",
   "metadata": {},
   "source": [
    "<img src='logo.png'>"
   ]
  },
  {
   "cell_type": "markdown",
   "id": "vanilla-bidding",
   "metadata": {},
   "source": [
    "<font size=6><b>kaggle The Movies Dataset</b></font>\n",
    "* Metadata on over 45,000 movies. 26 million ratings from over 270,000 users.\n",
    "* ref : https://www.kaggle.com/rounakbanik/the-movies-dataset"
   ]
  },
  {
   "cell_type": "code",
   "execution_count": 1,
   "id": "assisted-season",
   "metadata": {},
   "outputs": [
    {
     "data": {
      "text/html": [
       "<style>.container{width:100% !important;}</style>"
      ],
      "text/plain": [
       "<IPython.core.display.HTML object>"
      ]
     },
     "metadata": {},
     "output_type": "display_data"
    }
   ],
   "source": [
    "import pandas as pd\n",
    "import numpy as np\n",
    "import matplotlib.pyplot as plt\n",
    "import seaborn as sns\n",
    "\n",
    "from sklearn.feature_extraction.text import TfidfVectorizer\n",
    "from sklearn.feature_extraction.text import CountVectorizer\n",
    "\n",
    "from sklearn.metrics.pairwise import cosine_similarity\n",
    "from sklearn.metrics.pairwise import linear_kernel \n",
    "from ast import literal_eval\n",
    "\n",
    "import warnings \n",
    "warnings.simplefilter('ignore')\n",
    "\n",
    "from IPython.core.display import display, HTML\n",
    "display(HTML(\"<style>.container{width:100% !important;}</style>\"))\n",
    "pd.set_option('display.max_rows', 100)\n",
    "pd.set_option('display.max_columns', 100)\n",
    "pd.set_option('max_colwidth', None)\n"
   ]
  },
  {
   "cell_type": "markdown",
   "id": "spoken-yugoslavia",
   "metadata": {},
   "source": [
    "# Data Load\n",
    "<pre>\n",
    "genres : 영화 장르\n",
    "keywords : 영화의 키워드\n",
    "original_language : 영화 언어\n",
    "title : 제목\n",
    "vote_average : 평점 평균\n",
    "vote_count : 평점 카운트\n",
    "popularity : 인기도\n",
    "overview : 개요 설명\n",
    "</pre>"
   ]
  },
  {
   "cell_type": "code",
   "execution_count": 2,
   "id": "substantial-welcome",
   "metadata": {},
   "outputs": [],
   "source": [
    "mdf = pd.read_csv(\"./dataset/movies_metadata_2.csv\")"
   ]
  },
  {
   "cell_type": "code",
   "execution_count": 68,
   "id": "outside-sword",
   "metadata": {},
   "outputs": [
    {
     "name": "stdout",
     "output_type": "stream",
     "text": [
      "(45463, 26)\n",
      "<class 'pandas.core.frame.DataFrame'>\n",
      "RangeIndex: 45463 entries, 0 to 45462\n",
      "Data columns (total 26 columns):\n",
      " #   Column                 Non-Null Count  Dtype  \n",
      "---  ------                 --------------  -----  \n",
      " 0   adult                  45463 non-null  object \n",
      " 1   belongs_to_collection  4491 non-null   object \n",
      " 2   budget                 45463 non-null  object \n",
      " 3   genres                 45463 non-null  object \n",
      " 4   homepage               7779 non-null   object \n",
      " 5   id                     45463 non-null  int32  \n",
      " 6   imdb_id                45446 non-null  object \n",
      " 7   original_language      45452 non-null  object \n",
      " 8   original_title         45463 non-null  object \n",
      " 9   overview               44509 non-null  object \n",
      " 10  popularity             45460 non-null  object \n",
      " 11  poster_path            45077 non-null  object \n",
      " 12  production_companies   45460 non-null  object \n",
      " 13  production_countries   45460 non-null  object \n",
      " 14  release_date           45376 non-null  object \n",
      " 15  revenue                45460 non-null  float64\n",
      " 16  runtime                45203 non-null  float64\n",
      " 17  spoken_languages       45460 non-null  object \n",
      " 18  status                 45379 non-null  object \n",
      " 19  tagline                20412 non-null  object \n",
      " 20  title                  45460 non-null  object \n",
      " 21  video                  45460 non-null  object \n",
      " 22  vote_average           45460 non-null  float64\n",
      " 23  vote_count             45460 non-null  float64\n",
      " 24  year                   45463 non-null  object \n",
      " 25  wr                     45460 non-null  float64\n",
      "dtypes: float64(5), int32(1), object(20)\n",
      "memory usage: 8.8+ MB\n",
      "None\n"
     ]
    },
    {
     "data": {
      "text/html": [
       "<div>\n",
       "<style scoped>\n",
       "    .dataframe tbody tr th:only-of-type {\n",
       "        vertical-align: middle;\n",
       "    }\n",
       "\n",
       "    .dataframe tbody tr th {\n",
       "        vertical-align: top;\n",
       "    }\n",
       "\n",
       "    .dataframe thead th {\n",
       "        text-align: right;\n",
       "    }\n",
       "</style>\n",
       "<table border=\"1\" class=\"dataframe\">\n",
       "  <thead>\n",
       "    <tr style=\"text-align: right;\">\n",
       "      <th></th>\n",
       "      <th>adult</th>\n",
       "      <th>belongs_to_collection</th>\n",
       "      <th>budget</th>\n",
       "      <th>genres</th>\n",
       "      <th>homepage</th>\n",
       "      <th>id</th>\n",
       "      <th>imdb_id</th>\n",
       "      <th>original_language</th>\n",
       "      <th>original_title</th>\n",
       "      <th>overview</th>\n",
       "      <th>popularity</th>\n",
       "      <th>poster_path</th>\n",
       "      <th>production_companies</th>\n",
       "      <th>production_countries</th>\n",
       "      <th>release_date</th>\n",
       "      <th>revenue</th>\n",
       "      <th>runtime</th>\n",
       "      <th>spoken_languages</th>\n",
       "      <th>status</th>\n",
       "      <th>tagline</th>\n",
       "      <th>title</th>\n",
       "      <th>video</th>\n",
       "      <th>vote_average</th>\n",
       "      <th>vote_count</th>\n",
       "      <th>year</th>\n",
       "      <th>wr</th>\n",
       "    </tr>\n",
       "  </thead>\n",
       "  <tbody>\n",
       "    <tr>\n",
       "      <th>0</th>\n",
       "      <td>False</td>\n",
       "      <td>{'id': 10194, 'name': 'Toy Story Collection', 'poster_path': '/7G9915LfUQ2lVfwMEEhDsn3kT4B.jpg', 'backdrop_path': '/9FBwqcd9IRruEDUrTdcaafOMKUq.jpg'}</td>\n",
       "      <td>30000000</td>\n",
       "      <td>['Animation', 'Comedy', 'Family']</td>\n",
       "      <td>http://toystory.disney.com/toy-story</td>\n",
       "      <td>862</td>\n",
       "      <td>tt0114709</td>\n",
       "      <td>en</td>\n",
       "      <td>Toy Story</td>\n",
       "      <td>Led by Woody, Andy's toys live happily in his room until Andy's birthday brings Buzz Lightyear onto the scene. Afraid of losing his place in Andy's heart, Woody plots against Buzz. But when circumstances separate Buzz and Woody from their owner, the duo eventually learns to put aside their differences.</td>\n",
       "      <td>21.946943</td>\n",
       "      <td>/rhIRbceoE9lR4veEXuwCC2wARtG.jpg</td>\n",
       "      <td>[{'name': 'Pixar Animation Studios', 'id': 3}]</td>\n",
       "      <td>[{'iso_3166_1': 'US', 'name': 'United States of America'}]</td>\n",
       "      <td>1995-10-30</td>\n",
       "      <td>373554033.0</td>\n",
       "      <td>81.0</td>\n",
       "      <td>[{'iso_639_1': 'en', 'name': 'English'}]</td>\n",
       "      <td>Released</td>\n",
       "      <td>NaN</td>\n",
       "      <td>Toy Story</td>\n",
       "      <td>False</td>\n",
       "      <td>7.7</td>\n",
       "      <td>5415.0</td>\n",
       "      <td>1995</td>\n",
       "      <td>7.545529</td>\n",
       "    </tr>\n",
       "  </tbody>\n",
       "</table>\n",
       "</div>"
      ],
      "text/plain": [
       "   adult  \\\n",
       "0  False   \n",
       "\n",
       "                                                                                                                                   belongs_to_collection  \\\n",
       "0  {'id': 10194, 'name': 'Toy Story Collection', 'poster_path': '/7G9915LfUQ2lVfwMEEhDsn3kT4B.jpg', 'backdrop_path': '/9FBwqcd9IRruEDUrTdcaafOMKUq.jpg'}   \n",
       "\n",
       "     budget                             genres  \\\n",
       "0  30000000  ['Animation', 'Comedy', 'Family']   \n",
       "\n",
       "                               homepage   id    imdb_id original_language  \\\n",
       "0  http://toystory.disney.com/toy-story  862  tt0114709                en   \n",
       "\n",
       "  original_title  \\\n",
       "0      Toy Story   \n",
       "\n",
       "                                                                                                                                                                                                                                                                                                          overview  \\\n",
       "0  Led by Woody, Andy's toys live happily in his room until Andy's birthday brings Buzz Lightyear onto the scene. Afraid of losing his place in Andy's heart, Woody plots against Buzz. But when circumstances separate Buzz and Woody from their owner, the duo eventually learns to put aside their differences.   \n",
       "\n",
       "  popularity                       poster_path  \\\n",
       "0  21.946943  /rhIRbceoE9lR4veEXuwCC2wARtG.jpg   \n",
       "\n",
       "                             production_companies  \\\n",
       "0  [{'name': 'Pixar Animation Studios', 'id': 3}]   \n",
       "\n",
       "                                         production_countries release_date  \\\n",
       "0  [{'iso_3166_1': 'US', 'name': 'United States of America'}]   1995-10-30   \n",
       "\n",
       "       revenue  runtime                          spoken_languages    status  \\\n",
       "0  373554033.0     81.0  [{'iso_639_1': 'en', 'name': 'English'}]  Released   \n",
       "\n",
       "  tagline      title  video  vote_average  vote_count  year        wr  \n",
       "0     NaN  Toy Story  False           7.7      5415.0  1995  7.545529  "
      ]
     },
     "execution_count": 68,
     "metadata": {},
     "output_type": "execute_result"
    }
   ],
   "source": [
    "print(mdf.shape)\n",
    "print(mdf.info())\n",
    "mdf.head(1)"
   ]
  },
  {
   "cell_type": "markdown",
   "id": "herbal-affairs",
   "metadata": {},
   "source": [
    "## id 중 오데이터"
   ]
  },
  {
   "cell_type": "code",
   "execution_count": 4,
   "id": "toxic-medium",
   "metadata": {},
   "outputs": [],
   "source": [
    "idx = mdf[mdf['id'].str.len()>6].index\n",
    "mdf = mdf.drop(idx, axis=0)\n",
    "mdf = mdf.reset_index(drop=True)"
   ]
  },
  {
   "cell_type": "code",
   "execution_count": 5,
   "id": "acceptable-female",
   "metadata": {},
   "outputs": [],
   "source": [
    "mdf['id'] = mdf['id'].astype('int')"
   ]
  },
  {
   "cell_type": "markdown",
   "id": "republican-communication",
   "metadata": {},
   "source": [
    "# Weighted Rarking  (Top %)\n",
    "* vote, average"
   ]
  },
  {
   "cell_type": "markdown",
   "id": "opponent-seminar",
   "metadata": {},
   "source": [
    "* url : https://www.quora.com/How-does-IMDbs-rating-system-work<br>\n",
    "<img src = 'imdb_score.png' width=600>"
   ]
  },
  {
   "cell_type": "markdown",
   "id": "regulation-fountain",
   "metadata": {},
   "source": [
    "## WR 구하기"
   ]
  },
  {
   "cell_type": "markdown",
   "id": "surface-track",
   "metadata": {},
   "source": [
    "* WR = (v / (v+m)) * R + (m/ (v+m)) *C\n",
    "* R : 영화의 평점\n",
    "* v : 영화의 투표수\n",
    "* m : 상위 %안에 들어야 하는 최소 투표수\n",
    "* C : 개별 영화의 평점"
   ]
  },
  {
   "cell_type": "code",
   "execution_count": 6,
   "id": "classical-nylon",
   "metadata": {},
   "outputs": [
    {
     "data": {
      "text/plain": [
       "5.618207215134184"
      ]
     },
     "execution_count": 6,
     "metadata": {},
     "output_type": "execute_result"
    }
   ],
   "source": [
    "C = mdf['vote_average'].mean()\n",
    "C"
   ]
  },
  {
   "cell_type": "code",
   "execution_count": 7,
   "id": "fixed-activity",
   "metadata": {},
   "outputs": [
    {
     "data": {
      "text/plain": [
       "434.0"
      ]
     },
     "execution_count": 7,
     "metadata": {},
     "output_type": "execute_result"
    }
   ],
   "source": [
    "m = mdf['vote_count'].quantile(0.95)\n",
    "m"
   ]
  },
  {
   "cell_type": "code",
   "execution_count": 8,
   "id": "current-protection",
   "metadata": {},
   "outputs": [],
   "source": [
    "def my_calc_wr(mdf):\n",
    "    R = mdf['vote_average']\n",
    "    v = mdf['vote_count']\n",
    "    WR = (v / (v+m)) * R + (m/ (v+m)) *C\n",
    "    return WR"
   ]
  },
  {
   "cell_type": "code",
   "execution_count": 9,
   "id": "indonesian-prophet",
   "metadata": {},
   "outputs": [],
   "source": [
    "mdf['wr'] = mdf.apply(my_calc_wr, axis=1)"
   ]
  },
  {
   "cell_type": "code",
   "execution_count": 10,
   "id": "prospective-scout",
   "metadata": {},
   "outputs": [
    {
     "data": {
      "text/html": [
       "<div>\n",
       "<style scoped>\n",
       "    .dataframe tbody tr th:only-of-type {\n",
       "        vertical-align: middle;\n",
       "    }\n",
       "\n",
       "    .dataframe tbody tr th {\n",
       "        vertical-align: top;\n",
       "    }\n",
       "\n",
       "    .dataframe thead th {\n",
       "        text-align: right;\n",
       "    }\n",
       "</style>\n",
       "<table border=\"1\" class=\"dataframe\">\n",
       "  <thead>\n",
       "    <tr style=\"text-align: right;\">\n",
       "      <th></th>\n",
       "      <th>adult</th>\n",
       "      <th>belongs_to_collection</th>\n",
       "      <th>budget</th>\n",
       "      <th>genres</th>\n",
       "      <th>homepage</th>\n",
       "      <th>id</th>\n",
       "      <th>imdb_id</th>\n",
       "      <th>original_language</th>\n",
       "      <th>original_title</th>\n",
       "      <th>overview</th>\n",
       "      <th>popularity</th>\n",
       "      <th>poster_path</th>\n",
       "      <th>production_companies</th>\n",
       "      <th>production_countries</th>\n",
       "      <th>release_date</th>\n",
       "      <th>revenue</th>\n",
       "      <th>runtime</th>\n",
       "      <th>spoken_languages</th>\n",
       "      <th>status</th>\n",
       "      <th>tagline</th>\n",
       "      <th>title</th>\n",
       "      <th>video</th>\n",
       "      <th>vote_average</th>\n",
       "      <th>vote_count</th>\n",
       "      <th>year</th>\n",
       "      <th>wr</th>\n",
       "    </tr>\n",
       "  </thead>\n",
       "  <tbody>\n",
       "    <tr>\n",
       "      <th>0</th>\n",
       "      <td>False</td>\n",
       "      <td>{'id': 10194, 'name': 'Toy Story Collection', 'poster_path': '/7G9915LfUQ2lVfwMEEhDsn3kT4B.jpg', 'backdrop_path': '/9FBwqcd9IRruEDUrTdcaafOMKUq.jpg'}</td>\n",
       "      <td>30000000</td>\n",
       "      <td>['Animation', 'Comedy', 'Family']</td>\n",
       "      <td>http://toystory.disney.com/toy-story</td>\n",
       "      <td>862</td>\n",
       "      <td>tt0114709</td>\n",
       "      <td>en</td>\n",
       "      <td>Toy Story</td>\n",
       "      <td>Led by Woody, Andy's toys live happily in his room until Andy's birthday brings Buzz Lightyear onto the scene. Afraid of losing his place in Andy's heart, Woody plots against Buzz. But when circumstances separate Buzz and Woody from their owner, the duo eventually learns to put aside their differences.</td>\n",
       "      <td>21.946943</td>\n",
       "      <td>/rhIRbceoE9lR4veEXuwCC2wARtG.jpg</td>\n",
       "      <td>[{'name': 'Pixar Animation Studios', 'id': 3}]</td>\n",
       "      <td>[{'iso_3166_1': 'US', 'name': 'United States of America'}]</td>\n",
       "      <td>1995-10-30</td>\n",
       "      <td>373554033.0</td>\n",
       "      <td>81.0</td>\n",
       "      <td>[{'iso_639_1': 'en', 'name': 'English'}]</td>\n",
       "      <td>Released</td>\n",
       "      <td>NaN</td>\n",
       "      <td>Toy Story</td>\n",
       "      <td>False</td>\n",
       "      <td>7.7</td>\n",
       "      <td>5415.0</td>\n",
       "      <td>1995</td>\n",
       "      <td>7.545529</td>\n",
       "    </tr>\n",
       "  </tbody>\n",
       "</table>\n",
       "</div>"
      ],
      "text/plain": [
       "   adult  \\\n",
       "0  False   \n",
       "\n",
       "                                                                                                                                   belongs_to_collection  \\\n",
       "0  {'id': 10194, 'name': 'Toy Story Collection', 'poster_path': '/7G9915LfUQ2lVfwMEEhDsn3kT4B.jpg', 'backdrop_path': '/9FBwqcd9IRruEDUrTdcaafOMKUq.jpg'}   \n",
       "\n",
       "     budget                             genres  \\\n",
       "0  30000000  ['Animation', 'Comedy', 'Family']   \n",
       "\n",
       "                               homepage   id    imdb_id original_language  \\\n",
       "0  http://toystory.disney.com/toy-story  862  tt0114709                en   \n",
       "\n",
       "  original_title  \\\n",
       "0      Toy Story   \n",
       "\n",
       "                                                                                                                                                                                                                                                                                                          overview  \\\n",
       "0  Led by Woody, Andy's toys live happily in his room until Andy's birthday brings Buzz Lightyear onto the scene. Afraid of losing his place in Andy's heart, Woody plots against Buzz. But when circumstances separate Buzz and Woody from their owner, the duo eventually learns to put aside their differences.   \n",
       "\n",
       "  popularity                       poster_path  \\\n",
       "0  21.946943  /rhIRbceoE9lR4veEXuwCC2wARtG.jpg   \n",
       "\n",
       "                             production_companies  \\\n",
       "0  [{'name': 'Pixar Animation Studios', 'id': 3}]   \n",
       "\n",
       "                                         production_countries release_date  \\\n",
       "0  [{'iso_3166_1': 'US', 'name': 'United States of America'}]   1995-10-30   \n",
       "\n",
       "       revenue  runtime                          spoken_languages    status  \\\n",
       "0  373554033.0     81.0  [{'iso_639_1': 'en', 'name': 'English'}]  Released   \n",
       "\n",
       "  tagline      title  video  vote_average  vote_count  year        wr  \n",
       "0     NaN  Toy Story  False           7.7      5415.0  1995  7.545529  "
      ]
     },
     "execution_count": 10,
     "metadata": {},
     "output_type": "execute_result"
    }
   ],
   "source": [
    "mdf.head(1)"
   ]
  },
  {
   "cell_type": "markdown",
   "id": "meaningful-winning",
   "metadata": {},
   "source": [
    "## 상위 % 데이터만 가져오기"
   ]
  },
  {
   "cell_type": "code",
   "execution_count": 11,
   "id": "coral-perception",
   "metadata": {},
   "outputs": [
    {
     "data": {
      "text/plain": [
       "(2268, 7)"
      ]
     },
     "execution_count": 11,
     "metadata": {},
     "output_type": "execute_result"
    }
   ],
   "source": [
    "df5 = mdf[mdf['vote_count'] > 434.0][[ 'id','title', 'genres', 'vote_average', 'vote_count', 'year', 'wr' ]]\n",
    "df5.shape"
   ]
  },
  {
   "cell_type": "code",
   "execution_count": 12,
   "id": "mysterious-bacon",
   "metadata": {},
   "outputs": [
    {
     "data": {
      "text/html": [
       "<div>\n",
       "<style scoped>\n",
       "    .dataframe tbody tr th:only-of-type {\n",
       "        vertical-align: middle;\n",
       "    }\n",
       "\n",
       "    .dataframe tbody tr th {\n",
       "        vertical-align: top;\n",
       "    }\n",
       "\n",
       "    .dataframe thead th {\n",
       "        text-align: right;\n",
       "    }\n",
       "</style>\n",
       "<table border=\"1\" class=\"dataframe\">\n",
       "  <thead>\n",
       "    <tr style=\"text-align: right;\">\n",
       "      <th></th>\n",
       "      <th>id</th>\n",
       "      <th>title</th>\n",
       "      <th>genres</th>\n",
       "      <th>vote_average</th>\n",
       "      <th>vote_count</th>\n",
       "      <th>year</th>\n",
       "      <th>wr</th>\n",
       "    </tr>\n",
       "  </thead>\n",
       "  <tbody>\n",
       "    <tr>\n",
       "      <th>0</th>\n",
       "      <td>862</td>\n",
       "      <td>Toy Story</td>\n",
       "      <td>['Animation', 'Comedy', 'Family']</td>\n",
       "      <td>7.7</td>\n",
       "      <td>5415.0</td>\n",
       "      <td>1995</td>\n",
       "      <td>7.545529</td>\n",
       "    </tr>\n",
       "    <tr>\n",
       "      <th>1</th>\n",
       "      <td>8844</td>\n",
       "      <td>Jumanji</td>\n",
       "      <td>['Adventure', 'Fantasy', 'Family']</td>\n",
       "      <td>6.9</td>\n",
       "      <td>2413.0</td>\n",
       "      <td>1995</td>\n",
       "      <td>6.704602</td>\n",
       "    </tr>\n",
       "  </tbody>\n",
       "</table>\n",
       "</div>"
      ],
      "text/plain": [
       "     id      title                              genres  vote_average  \\\n",
       "0   862  Toy Story   ['Animation', 'Comedy', 'Family']           7.7   \n",
       "1  8844    Jumanji  ['Adventure', 'Fantasy', 'Family']           6.9   \n",
       "\n",
       "   vote_count  year        wr  \n",
       "0      5415.0  1995  7.545529  \n",
       "1      2413.0  1995  6.704602  "
      ]
     },
     "execution_count": 12,
     "metadata": {},
     "output_type": "execute_result"
    }
   ],
   "source": [
    "df5.head(2)"
   ]
  },
  {
   "cell_type": "code",
   "execution_count": 13,
   "id": "convertible-genome",
   "metadata": {},
   "outputs": [
    {
     "name": "stdout",
     "output_type": "stream",
     "text": [
      "<class 'pandas.core.frame.DataFrame'>\n",
      "Int64Index: 2268 entries, 0 to 45011\n",
      "Data columns (total 7 columns):\n",
      " #   Column        Non-Null Count  Dtype  \n",
      "---  ------        --------------  -----  \n",
      " 0   id            2268 non-null   int32  \n",
      " 1   title         2268 non-null   object \n",
      " 2   genres        2268 non-null   object \n",
      " 3   vote_average  2268 non-null   float64\n",
      " 4   vote_count    2268 non-null   float64\n",
      " 5   year          2268 non-null   object \n",
      " 6   wr            2268 non-null   float64\n",
      "dtypes: float64(3), int32(1), object(3)\n",
      "memory usage: 132.9+ KB\n"
     ]
    }
   ],
   "source": [
    "df5.info()"
   ]
  },
  {
   "cell_type": "markdown",
   "id": "norwegian-curve",
   "metadata": {},
   "source": [
    "## 장르 검색"
   ]
  },
  {
   "cell_type": "code",
   "execution_count": 14,
   "id": "pursuant-perry",
   "metadata": {},
   "outputs": [
    {
     "data": {
      "text/plain": [
       "0            ['Animation', 'Comedy', 'Family']\n",
       "1           ['Adventure', 'Fantasy', 'Family']\n",
       "5     ['Action', 'Crime', 'Drama', 'Thriller']\n",
       "9          ['Adventure', 'Action', 'Thriller']\n",
       "15                          ['Drama', 'Crime']\n",
       "Name: genres, dtype: object"
      ]
     },
     "execution_count": 14,
     "metadata": {},
     "output_type": "execute_result"
    }
   ],
   "source": [
    "df5['genres'].head()"
   ]
  },
  {
   "cell_type": "code",
   "execution_count": 15,
   "id": "thermal-filter",
   "metadata": {},
   "outputs": [
    {
     "data": {
      "text/plain": [
       "(\"['Animation', 'Comedy', 'Family']\", str)"
      ]
     },
     "execution_count": 15,
     "metadata": {},
     "output_type": "execute_result"
    }
   ],
   "source": [
    "df5.loc[0, 'genres'],  type(df5.loc[0, 'genres'])"
   ]
  },
  {
   "cell_type": "code",
   "execution_count": 16,
   "id": "accompanied-inventory",
   "metadata": {},
   "outputs": [
    {
     "data": {
      "text/plain": [
       "False"
      ]
     },
     "execution_count": 16,
     "metadata": {},
     "output_type": "execute_result"
    }
   ],
   "source": [
    "'c' in 'AAA'"
   ]
  },
  {
   "cell_type": "code",
   "execution_count": 17,
   "id": "fantastic-green",
   "metadata": {
    "tags": []
   },
   "outputs": [
    {
     "data": {
      "text/html": [
       "<div>\n",
       "<style scoped>\n",
       "    .dataframe tbody tr th:only-of-type {\n",
       "        vertical-align: middle;\n",
       "    }\n",
       "\n",
       "    .dataframe tbody tr th {\n",
       "        vertical-align: top;\n",
       "    }\n",
       "\n",
       "    .dataframe thead th {\n",
       "        text-align: right;\n",
       "    }\n",
       "</style>\n",
       "<table border=\"1\" class=\"dataframe\">\n",
       "  <thead>\n",
       "    <tr style=\"text-align: right;\">\n",
       "      <th></th>\n",
       "      <th>id</th>\n",
       "      <th>title</th>\n",
       "      <th>genres</th>\n",
       "      <th>vote_average</th>\n",
       "      <th>vote_count</th>\n",
       "      <th>year</th>\n",
       "      <th>wr</th>\n",
       "    </tr>\n",
       "  </thead>\n",
       "  <tbody>\n",
       "    <tr>\n",
       "      <th>0</th>\n",
       "      <td>862</td>\n",
       "      <td>Toy Story</td>\n",
       "      <td>['Animation', 'Comedy', 'Family']</td>\n",
       "      <td>7.7</td>\n",
       "      <td>5415.0</td>\n",
       "      <td>1995</td>\n",
       "      <td>7.545529</td>\n",
       "    </tr>\n",
       "    <tr>\n",
       "      <th>1</th>\n",
       "      <td>8844</td>\n",
       "      <td>Jumanji</td>\n",
       "      <td>['Adventure', 'Fantasy', 'Family']</td>\n",
       "      <td>6.9</td>\n",
       "      <td>2413.0</td>\n",
       "      <td>1995</td>\n",
       "      <td>6.704602</td>\n",
       "    </tr>\n",
       "    <tr>\n",
       "      <th>33</th>\n",
       "      <td>9598</td>\n",
       "      <td>Babe</td>\n",
       "      <td>['Fantasy', 'Drama', 'Comedy', 'Family']</td>\n",
       "      <td>6.0</td>\n",
       "      <td>756.0</td>\n",
       "      <td>1995</td>\n",
       "      <td>5.860758</td>\n",
       "    </tr>\n",
       "    <tr>\n",
       "      <th>47</th>\n",
       "      <td>10530</td>\n",
       "      <td>Pocahontas</td>\n",
       "      <td>['Adventure', 'Animation', 'Drama', 'Family']</td>\n",
       "      <td>6.7</td>\n",
       "      <td>1509.0</td>\n",
       "      <td>1995</td>\n",
       "      <td>6.458364</td>\n",
       "    </tr>\n",
       "    <tr>\n",
       "      <th>155</th>\n",
       "      <td>8839</td>\n",
       "      <td>Casper</td>\n",
       "      <td>['Fantasy', 'Comedy', 'Family']</td>\n",
       "      <td>6.0</td>\n",
       "      <td>1045.0</td>\n",
       "      <td>1995</td>\n",
       "      <td>5.887966</td>\n",
       "    </tr>\n",
       "  </tbody>\n",
       "</table>\n",
       "</div>"
      ],
      "text/plain": [
       "        id       title                                         genres  \\\n",
       "0      862   Toy Story              ['Animation', 'Comedy', 'Family']   \n",
       "1     8844     Jumanji             ['Adventure', 'Fantasy', 'Family']   \n",
       "33    9598        Babe       ['Fantasy', 'Drama', 'Comedy', 'Family']   \n",
       "47   10530  Pocahontas  ['Adventure', 'Animation', 'Drama', 'Family']   \n",
       "155   8839      Casper                ['Fantasy', 'Comedy', 'Family']   \n",
       "\n",
       "     vote_average  vote_count  year        wr  \n",
       "0             7.7      5415.0  1995  7.545529  \n",
       "1             6.9      2413.0  1995  6.704602  \n",
       "33            6.0       756.0  1995  5.860758  \n",
       "47            6.7      1509.0  1995  6.458364  \n",
       "155           6.0      1045.0  1995  5.887966  "
      ]
     },
     "execution_count": 17,
     "metadata": {},
     "output_type": "execute_result"
    }
   ],
   "source": [
    "df5[df5['genres'].str.contains('Family')].head()"
   ]
  },
  {
   "cell_type": "markdown",
   "id": "hourly-granny",
   "metadata": {},
   "source": [
    "## 최종 코드"
   ]
  },
  {
   "cell_type": "code",
   "execution_count": 18,
   "id": "thirty-trance",
   "metadata": {},
   "outputs": [],
   "source": [
    "def my_calc_wr_def(mdf):\n",
    "    R = mdf['vote_average']\n",
    "    v = mdf['vote_count']\n",
    "    WR = (v / (v+m)) * R + (m/ (v+m)) *C\n",
    "    return WR\n",
    "\n",
    "mdf = pd.read_csv(\"./dataset/movies_metadata_2.csv\")\n",
    "idx = mdf[mdf['id'].str.len()>6].index\n",
    "mdf = mdf.drop(idx, axis=0)\n",
    "mdf = mdf.reset_index(drop=True)\n",
    "mdf['id'] = mdf['id'].astype('int')"
   ]
  },
  {
   "cell_type": "code",
   "execution_count": 19,
   "id": "sublime-avatar",
   "metadata": {},
   "outputs": [],
   "source": [
    "def my_search_wr_by_genres(search_genres ='Family', percnet=0.95):\n",
    "    C = mdf['vote_average'].mean()\n",
    "    m = mdf['vote_count'].quantile(percnet)\n",
    "    mdf['wr'] = mdf.apply(my_calc_wr_def, axis=1)\n",
    "\n",
    "    df5 = mdf[mdf['vote_count'] > m][[ 'id','title', 'genres', 'vote_average', 'vote_count', 'year', 'wr' ]]\n",
    "    df5 = df5.sort_values('wr', ascending=False)\n",
    "    return df5[df5['genres'].str.contains(search_genres)]"
   ]
  },
  {
   "cell_type": "code",
   "execution_count": 20,
   "id": "hawaiian-cancer",
   "metadata": {},
   "outputs": [
    {
     "data": {
      "text/html": [
       "<div>\n",
       "<style scoped>\n",
       "    .dataframe tbody tr th:only-of-type {\n",
       "        vertical-align: middle;\n",
       "    }\n",
       "\n",
       "    .dataframe tbody tr th {\n",
       "        vertical-align: top;\n",
       "    }\n",
       "\n",
       "    .dataframe thead th {\n",
       "        text-align: right;\n",
       "    }\n",
       "</style>\n",
       "<table border=\"1\" class=\"dataframe\">\n",
       "  <thead>\n",
       "    <tr style=\"text-align: right;\">\n",
       "      <th></th>\n",
       "      <th>id</th>\n",
       "      <th>title</th>\n",
       "      <th>genres</th>\n",
       "      <th>vote_average</th>\n",
       "      <th>vote_count</th>\n",
       "      <th>year</th>\n",
       "      <th>wr</th>\n",
       "    </tr>\n",
       "  </thead>\n",
       "  <tbody>\n",
       "    <tr>\n",
       "      <th>5481</th>\n",
       "      <td>129</td>\n",
       "      <td>Spirited Away</td>\n",
       "      <td>['Fantasy', 'Adventure', 'Animation', 'Family']</td>\n",
       "      <td>8.3</td>\n",
       "      <td>3968.0</td>\n",
       "      <td>2001</td>\n",
       "      <td>8.035598</td>\n",
       "    </tr>\n",
       "    <tr>\n",
       "      <th>7000</th>\n",
       "      <td>122</td>\n",
       "      <td>The Lord of the Rings: The Return of the King</td>\n",
       "      <td>['Adventure', 'Fantasy', 'Action']</td>\n",
       "      <td>8.1</td>\n",
       "      <td>8226.0</td>\n",
       "      <td>2003</td>\n",
       "      <td>7.975624</td>\n",
       "    </tr>\n",
       "    <tr>\n",
       "      <th>3030</th>\n",
       "      <td>497</td>\n",
       "      <td>The Green Mile</td>\n",
       "      <td>['Fantasy', 'Drama', 'Crime']</td>\n",
       "      <td>8.2</td>\n",
       "      <td>4166.0</td>\n",
       "      <td>1999</td>\n",
       "      <td>7.956413</td>\n",
       "    </tr>\n",
       "    <tr>\n",
       "      <th>4863</th>\n",
       "      <td>120</td>\n",
       "      <td>The Lord of the Rings: The Fellowship of the Ring</td>\n",
       "      <td>['Adventure', 'Fantasy', 'Action']</td>\n",
       "      <td>8.0</td>\n",
       "      <td>8892.0</td>\n",
       "      <td>2001</td>\n",
       "      <td>7.889160</td>\n",
       "    </tr>\n",
       "    <tr>\n",
       "      <th>5814</th>\n",
       "      <td>121</td>\n",
       "      <td>The Lord of the Rings: The Two Towers</td>\n",
       "      <td>['Adventure', 'Fantasy', 'Action']</td>\n",
       "      <td>8.0</td>\n",
       "      <td>7641.0</td>\n",
       "      <td>2002</td>\n",
       "      <td>7.871988</td>\n",
       "    </tr>\n",
       "  </tbody>\n",
       "</table>\n",
       "</div>"
      ],
      "text/plain": [
       "       id                                              title  \\\n",
       "5481  129                                      Spirited Away   \n",
       "7000  122      The Lord of the Rings: The Return of the King   \n",
       "3030  497                                     The Green Mile   \n",
       "4863  120  The Lord of the Rings: The Fellowship of the Ring   \n",
       "5814  121              The Lord of the Rings: The Two Towers   \n",
       "\n",
       "                                               genres  vote_average  \\\n",
       "5481  ['Fantasy', 'Adventure', 'Animation', 'Family']           8.3   \n",
       "7000               ['Adventure', 'Fantasy', 'Action']           8.1   \n",
       "3030                    ['Fantasy', 'Drama', 'Crime']           8.2   \n",
       "4863               ['Adventure', 'Fantasy', 'Action']           8.0   \n",
       "5814               ['Adventure', 'Fantasy', 'Action']           8.0   \n",
       "\n",
       "      vote_count  year        wr  \n",
       "5481      3968.0  2001  8.035598  \n",
       "7000      8226.0  2003  7.975624  \n",
       "3030      4166.0  1999  7.956413  \n",
       "4863      8892.0  2001  7.889160  \n",
       "5814      7641.0  2002  7.871988  "
      ]
     },
     "execution_count": 20,
     "metadata": {},
     "output_type": "execute_result"
    }
   ],
   "source": [
    "resdf = my_search_wr_by_genres('Fantasy', 0.97)\n",
    "resdf.head()"
   ]
  },
  {
   "cell_type": "code",
   "execution_count": null,
   "id": "deluxe-morris",
   "metadata": {},
   "outputs": [],
   "source": [
    "ㅇㄹㅇㄹㅇ"
   ]
  },
  {
   "cell_type": "markdown",
   "id": "psychological-symbol",
   "metadata": {},
   "source": [
    "# Review  based"
   ]
  },
  {
   "cell_type": "markdown",
   "id": "impaired-excitement",
   "metadata": {},
   "source": [
    "## Data Load"
   ]
  },
  {
   "cell_type": "code",
   "execution_count": 21,
   "id": "southern-collapse",
   "metadata": {},
   "outputs": [],
   "source": [
    "ldf = pd.read_csv(\"./dataset/links_small.csv\")"
   ]
  },
  {
   "cell_type": "code",
   "execution_count": 22,
   "id": "surgical-surfing",
   "metadata": {},
   "outputs": [
    {
     "name": "stdout",
     "output_type": "stream",
     "text": [
      "(9125, 3)\n",
      "<class 'pandas.core.frame.DataFrame'>\n",
      "RangeIndex: 9125 entries, 0 to 9124\n",
      "Data columns (total 3 columns):\n",
      " #   Column   Non-Null Count  Dtype  \n",
      "---  ------   --------------  -----  \n",
      " 0   movieId  9125 non-null   int64  \n",
      " 1   imdbId   9125 non-null   int64  \n",
      " 2   tmdbId   9112 non-null   float64\n",
      "dtypes: float64(1), int64(2)\n",
      "memory usage: 214.0 KB\n",
      "None\n"
     ]
    },
    {
     "data": {
      "text/html": [
       "<div>\n",
       "<style scoped>\n",
       "    .dataframe tbody tr th:only-of-type {\n",
       "        vertical-align: middle;\n",
       "    }\n",
       "\n",
       "    .dataframe tbody tr th {\n",
       "        vertical-align: top;\n",
       "    }\n",
       "\n",
       "    .dataframe thead th {\n",
       "        text-align: right;\n",
       "    }\n",
       "</style>\n",
       "<table border=\"1\" class=\"dataframe\">\n",
       "  <thead>\n",
       "    <tr style=\"text-align: right;\">\n",
       "      <th></th>\n",
       "      <th>movieId</th>\n",
       "      <th>imdbId</th>\n",
       "      <th>tmdbId</th>\n",
       "    </tr>\n",
       "  </thead>\n",
       "  <tbody>\n",
       "    <tr>\n",
       "      <th>0</th>\n",
       "      <td>1</td>\n",
       "      <td>114709</td>\n",
       "      <td>862.0</td>\n",
       "    </tr>\n",
       "    <tr>\n",
       "      <th>1</th>\n",
       "      <td>2</td>\n",
       "      <td>113497</td>\n",
       "      <td>8844.0</td>\n",
       "    </tr>\n",
       "  </tbody>\n",
       "</table>\n",
       "</div>"
      ],
      "text/plain": [
       "   movieId  imdbId  tmdbId\n",
       "0        1  114709   862.0\n",
       "1        2  113497  8844.0"
      ]
     },
     "execution_count": 22,
     "metadata": {},
     "output_type": "execute_result"
    }
   ],
   "source": [
    "print(ldf.shape)\n",
    "print(ldf.info())\n",
    "ldf.head(2)"
   ]
  },
  {
   "cell_type": "markdown",
   "id": "continued-pharmacy",
   "metadata": {},
   "source": [
    "## ldf 결측처리 "
   ]
  },
  {
   "cell_type": "code",
   "execution_count": 23,
   "id": "invalid-chaos",
   "metadata": {},
   "outputs": [
    {
     "data": {
      "text/plain": [
       "movieId     0\n",
       "imdbId      0\n",
       "tmdbId     13\n",
       "dtype: int64"
      ]
     },
     "execution_count": 23,
     "metadata": {},
     "output_type": "execute_result"
    }
   ],
   "source": [
    "ldf.isna().sum()"
   ]
  },
  {
   "cell_type": "code",
   "execution_count": 24,
   "id": "complete-plumbing",
   "metadata": {},
   "outputs": [
    {
     "name": "stdout",
     "output_type": "stream",
     "text": [
      "(9112, 3)\n"
     ]
    }
   ],
   "source": [
    "ldf = ldf.dropna(axis=0)\n",
    "ldf = ldf.reset_index(drop=True)\n",
    "print(ldf.shape)"
   ]
  },
  {
   "cell_type": "code",
   "execution_count": 25,
   "id": "focal-track",
   "metadata": {},
   "outputs": [],
   "source": [
    "ldf['tmdbId'] = ldf['tmdbId'].astype('int')"
   ]
  },
  {
   "cell_type": "markdown",
   "id": "surrounded-former",
   "metadata": {},
   "source": [
    "## mdf +  ldf join"
   ]
  },
  {
   "cell_type": "code",
   "execution_count": 26,
   "id": "vital-alberta",
   "metadata": {},
   "outputs": [
    {
     "data": {
      "text/html": [
       "<div>\n",
       "<style scoped>\n",
       "    .dataframe tbody tr th:only-of-type {\n",
       "        vertical-align: middle;\n",
       "    }\n",
       "\n",
       "    .dataframe tbody tr th {\n",
       "        vertical-align: top;\n",
       "    }\n",
       "\n",
       "    .dataframe thead th {\n",
       "        text-align: right;\n",
       "    }\n",
       "</style>\n",
       "<table border=\"1\" class=\"dataframe\">\n",
       "  <thead>\n",
       "    <tr style=\"text-align: right;\">\n",
       "      <th></th>\n",
       "      <th>adult</th>\n",
       "      <th>belongs_to_collection</th>\n",
       "      <th>budget</th>\n",
       "      <th>genres</th>\n",
       "      <th>homepage</th>\n",
       "      <th>id</th>\n",
       "      <th>imdb_id</th>\n",
       "      <th>original_language</th>\n",
       "      <th>original_title</th>\n",
       "      <th>overview</th>\n",
       "      <th>popularity</th>\n",
       "      <th>poster_path</th>\n",
       "      <th>production_companies</th>\n",
       "      <th>production_countries</th>\n",
       "      <th>release_date</th>\n",
       "      <th>revenue</th>\n",
       "      <th>runtime</th>\n",
       "      <th>spoken_languages</th>\n",
       "      <th>status</th>\n",
       "      <th>tagline</th>\n",
       "      <th>title</th>\n",
       "      <th>video</th>\n",
       "      <th>vote_average</th>\n",
       "      <th>vote_count</th>\n",
       "      <th>year</th>\n",
       "      <th>wr</th>\n",
       "      <th>movieId</th>\n",
       "      <th>imdbId</th>\n",
       "      <th>tmdbId</th>\n",
       "    </tr>\n",
       "  </thead>\n",
       "  <tbody>\n",
       "    <tr>\n",
       "      <th>0</th>\n",
       "      <td>False</td>\n",
       "      <td>{'id': 10194, 'name': 'Toy Story Collection', 'poster_path': '/7G9915LfUQ2lVfwMEEhDsn3kT4B.jpg', 'backdrop_path': '/9FBwqcd9IRruEDUrTdcaafOMKUq.jpg'}</td>\n",
       "      <td>30000000</td>\n",
       "      <td>['Animation', 'Comedy', 'Family']</td>\n",
       "      <td>http://toystory.disney.com/toy-story</td>\n",
       "      <td>862</td>\n",
       "      <td>tt0114709</td>\n",
       "      <td>en</td>\n",
       "      <td>Toy Story</td>\n",
       "      <td>Led by Woody, Andy's toys live happily in his room until Andy's birthday brings Buzz Lightyear onto the scene. Afraid of losing his place in Andy's heart, Woody plots against Buzz. But when circumstances separate Buzz and Woody from their owner, the duo eventually learns to put aside their differences.</td>\n",
       "      <td>21.946943</td>\n",
       "      <td>/rhIRbceoE9lR4veEXuwCC2wARtG.jpg</td>\n",
       "      <td>[{'name': 'Pixar Animation Studios', 'id': 3}]</td>\n",
       "      <td>[{'iso_3166_1': 'US', 'name': 'United States of America'}]</td>\n",
       "      <td>1995-10-30</td>\n",
       "      <td>373554033.0</td>\n",
       "      <td>81.0</td>\n",
       "      <td>[{'iso_639_1': 'en', 'name': 'English'}]</td>\n",
       "      <td>Released</td>\n",
       "      <td>NaN</td>\n",
       "      <td>Toy Story</td>\n",
       "      <td>False</td>\n",
       "      <td>7.7</td>\n",
       "      <td>5415.0</td>\n",
       "      <td>1995</td>\n",
       "      <td>7.545529</td>\n",
       "      <td>1</td>\n",
       "      <td>114709</td>\n",
       "      <td>862</td>\n",
       "    </tr>\n",
       "  </tbody>\n",
       "</table>\n",
       "</div>"
      ],
      "text/plain": [
       "   adult  \\\n",
       "0  False   \n",
       "\n",
       "                                                                                                                                   belongs_to_collection  \\\n",
       "0  {'id': 10194, 'name': 'Toy Story Collection', 'poster_path': '/7G9915LfUQ2lVfwMEEhDsn3kT4B.jpg', 'backdrop_path': '/9FBwqcd9IRruEDUrTdcaafOMKUq.jpg'}   \n",
       "\n",
       "     budget                             genres  \\\n",
       "0  30000000  ['Animation', 'Comedy', 'Family']   \n",
       "\n",
       "                               homepage   id    imdb_id original_language  \\\n",
       "0  http://toystory.disney.com/toy-story  862  tt0114709                en   \n",
       "\n",
       "  original_title  \\\n",
       "0      Toy Story   \n",
       "\n",
       "                                                                                                                                                                                                                                                                                                          overview  \\\n",
       "0  Led by Woody, Andy's toys live happily in his room until Andy's birthday brings Buzz Lightyear onto the scene. Afraid of losing his place in Andy's heart, Woody plots against Buzz. But when circumstances separate Buzz and Woody from their owner, the duo eventually learns to put aside their differences.   \n",
       "\n",
       "  popularity                       poster_path  \\\n",
       "0  21.946943  /rhIRbceoE9lR4veEXuwCC2wARtG.jpg   \n",
       "\n",
       "                             production_companies  \\\n",
       "0  [{'name': 'Pixar Animation Studios', 'id': 3}]   \n",
       "\n",
       "                                         production_countries release_date  \\\n",
       "0  [{'iso_3166_1': 'US', 'name': 'United States of America'}]   1995-10-30   \n",
       "\n",
       "       revenue  runtime                          spoken_languages    status  \\\n",
       "0  373554033.0     81.0  [{'iso_639_1': 'en', 'name': 'English'}]  Released   \n",
       "\n",
       "  tagline      title  video  vote_average  vote_count  year        wr  \\\n",
       "0     NaN  Toy Story  False           7.7      5415.0  1995  7.545529   \n",
       "\n",
       "   movieId  imdbId  tmdbId  \n",
       "0        1  114709     862  "
      ]
     },
     "execution_count": 26,
     "metadata": {},
     "output_type": "execute_result"
    }
   ],
   "source": [
    "mldf = pd.merge(mdf, ldf,  left_on=\"id\", right_on='tmdbId', how=\"inner\")\n",
    "mldf.head(1)   # 추가 컬럼 movieId\timdbId\ttmdbId"
   ]
  },
  {
   "cell_type": "markdown",
   "id": "stuck-citizen",
   "metadata": {},
   "source": [
    "## mldf 결측처리"
   ]
  },
  {
   "cell_type": "code",
   "execution_count": 27,
   "id": "ongoing-apparatus",
   "metadata": {},
   "outputs": [],
   "source": [
    "mldf['tagline'] = mldf['tagline'].fillna('')"
   ]
  },
  {
   "cell_type": "code",
   "execution_count": 28,
   "id": "intellectual-wilson",
   "metadata": {},
   "outputs": [],
   "source": [
    "mldf['overview'] = mldf['overview'].fillna('')"
   ]
  },
  {
   "cell_type": "code",
   "execution_count": 29,
   "id": "labeled-companion",
   "metadata": {},
   "outputs": [
    {
     "data": {
      "text/html": [
       "<div>\n",
       "<style scoped>\n",
       "    .dataframe tbody tr th:only-of-type {\n",
       "        vertical-align: middle;\n",
       "    }\n",
       "\n",
       "    .dataframe tbody tr th {\n",
       "        vertical-align: top;\n",
       "    }\n",
       "\n",
       "    .dataframe thead th {\n",
       "        text-align: right;\n",
       "    }\n",
       "</style>\n",
       "<table border=\"1\" class=\"dataframe\">\n",
       "  <thead>\n",
       "    <tr style=\"text-align: right;\">\n",
       "      <th></th>\n",
       "      <th>overview</th>\n",
       "      <th>tagline</th>\n",
       "    </tr>\n",
       "  </thead>\n",
       "  <tbody>\n",
       "    <tr>\n",
       "      <th>9098</th>\n",
       "      <td>The band stormed Europe in 1963, and, in 1964, they conquered America. Their groundbreaking world tours changed global youth culture forever and, arguably, invented mass entertainment as we know it today. All the while, the group were composing and recording a series of extraordinarily successful singles and albums. However the relentless pressure of such unprecedented fame, that in 1966 became uncontrollable turmoil, led to the decision to stop touring. In the ensuing years The Beatles were then free to focus on a series of albums that changed the face of recorded music.</td>\n",
       "      <td>The band you know. The story you don't.</td>\n",
       "    </tr>\n",
       "  </tbody>\n",
       "</table>\n",
       "</div>"
      ],
      "text/plain": [
       "                                                                                                                                                                                                                                                                                                                                                                                                                                                                                                                                                                                                overview  \\\n",
       "9098  The band stormed Europe in 1963, and, in 1964, they conquered America. Their groundbreaking world tours changed global youth culture forever and, arguably, invented mass entertainment as we know it today. All the while, the group were composing and recording a series of extraordinarily successful singles and albums. However the relentless pressure of such unprecedented fame, that in 1966 became uncontrollable turmoil, led to the decision to stop touring. In the ensuing years The Beatles were then free to focus on a series of albums that changed the face of recorded music.   \n",
       "\n",
       "                                      tagline  \n",
       "9098  The band you know. The story you don't.  "
      ]
     },
     "execution_count": 29,
     "metadata": {},
     "output_type": "execute_result"
    }
   ],
   "source": [
    "mldf[['overview', 'tagline']].tail(1)"
   ]
  },
  {
   "cell_type": "code",
   "execution_count": 30,
   "id": "unknown-demonstration",
   "metadata": {},
   "outputs": [],
   "source": [
    "mldf['view_tag'] = mldf['overview'] + mldf['tagline']"
   ]
  },
  {
   "cell_type": "code",
   "execution_count": 31,
   "id": "white-dodge",
   "metadata": {},
   "outputs": [
    {
     "data": {
      "text/plain": [
       "0"
      ]
     },
     "execution_count": 31,
     "metadata": {},
     "output_type": "execute_result"
    }
   ],
   "source": [
    "mldf['view_tag'].isna().sum()"
   ]
  },
  {
   "cell_type": "code",
   "execution_count": 32,
   "id": "brutal-cleaner",
   "metadata": {},
   "outputs": [
    {
     "name": "stdout",
     "output_type": "stream",
     "text": [
      "12\n",
      "(9087, 30)\n"
     ]
    }
   ],
   "source": [
    "idx = mldf[mldf['view_tag'].str.len() < 1].index\n",
    "print(len(idx))\n",
    "mldf = mldf.drop(idx, axis=0)\n",
    "mldf = mldf.reset_index(drop=True)\n",
    "print(mldf.shape)"
   ]
  },
  {
   "cell_type": "markdown",
   "id": "attractive-satisfaction",
   "metadata": {},
   "source": [
    "## Tf-Idf\n",
    "* from sklearn.feature_extraction.text import TfidfVectorizer\n",
    "* from sklearn.feature_extraction.text import CountVectorizer\n",
    "* from sklearn.metrics.pairwise import cosine_similarity\n",
    "* from sklearn.metrics.pairwise import linear_kernel "
   ]
  },
  {
   "cell_type": "markdown",
   "id": "twelve-tracker",
   "metadata": {},
   "source": [
    "class sklearn.feature_extraction.text.<font color=red><b>TfidfVectorizer</b></font>(*, input='content', encoding='utf-8', decode_error='strict', strip_accents=None, lowercase=True, preprocessor=None, tokenizer=None, analyzer='word', stop_words=None, token_pattern='(?u)\\b\\w\\w+\\b', ngram_range=(1, 1), max_df=1.0, min_df=1, max_features=None, vocabulary=None, binary=False, dtype=<class 'numpy.float64'>, norm='l2', use_idf=True, smooth_idf=True, sublinear_tf=False)[source]¶"
   ]
  },
  {
   "cell_type": "code",
   "execution_count": 33,
   "id": "empty-hunter",
   "metadata": {},
   "outputs": [
    {
     "name": "stdout",
     "output_type": "stream",
     "text": [
      "(9087, 30708)\n"
     ]
    }
   ],
   "source": [
    "tfidf = TfidfVectorizer( stop_words='english') #, max_df=0.8, min_df=0.2)  ngram_range=(1, 2)\n",
    "tfidf_matrix = tfidf.fit_transform(mldf['view_tag'])\n",
    "# print(tfidf.vocabulary_)\n",
    "print(tfidf_matrix.shape)"
   ]
  },
  {
   "cell_type": "code",
   "execution_count": 34,
   "id": "supreme-hostel",
   "metadata": {},
   "outputs": [],
   "source": [
    "# tfidf_matrix[20].toarray()"
   ]
  },
  {
   "cell_type": "markdown",
   "id": "strategic-brisbane",
   "metadata": {},
   "source": [
    "## 유사도 계산"
   ]
  },
  {
   "cell_type": "code",
   "execution_count": 35,
   "id": "bigger-syntax",
   "metadata": {},
   "outputs": [],
   "source": [
    "cos_sim = cosine_similarity(tfidf_matrix, tfidf_matrix)\n",
    "# linear_kernel(tfidf_matrix, tfidf_matrix)"
   ]
  },
  {
   "cell_type": "code",
   "execution_count": 36,
   "id": "treated-chase",
   "metadata": {},
   "outputs": [
    {
     "data": {
      "text/plain": [
       "array([1.        , 0.01667211, 0.        , 0.        , 0.        ,\n",
       "       0.        , 0.        , 0.        , 0.        , 0.        ,\n",
       "       0.        , 0.        , 0.        , 0.        , 0.        ,\n",
       "       0.        , 0.01673995, 0.02936277, 0.        , 0.        ])"
      ]
     },
     "execution_count": 36,
     "metadata": {},
     "output_type": "execute_result"
    }
   ],
   "source": [
    "cos_sim[0][:20]"
   ]
  },
  {
   "cell_type": "markdown",
   "id": "outdoor-citation",
   "metadata": {},
   "source": [
    "## 영화 제목 색인 시리즈 생성\n",
    "* 제목을 입력하면 (idx)번째 출력"
   ]
  },
  {
   "cell_type": "code",
   "execution_count": 37,
   "id": "irish-migration",
   "metadata": {},
   "outputs": [
    {
     "data": {
      "text/plain": [
       "Toy Story                      0\n",
       "Jumanji                        1\n",
       "Grumpier Old Men               2\n",
       "Waiting to Exhale              3\n",
       "Father of the Bride Part II    4\n",
       "Heat                           5\n",
       "Sabrina                        6\n",
       "Tom and Huck                   7\n",
       "Sudden Death                   8\n",
       "GoldenEye                      9\n",
       "dtype: int64"
      ]
     },
     "execution_count": 37,
     "metadata": {},
     "output_type": "execute_result"
    }
   ],
   "source": [
    "s  = mldf['title']\n",
    "title_s = pd.Series(s.index, index=s.values)  # 값 <--> 인덱스 서로 자리 변경\n",
    "title_s.head(10)"
   ]
  },
  {
   "cell_type": "markdown",
   "id": "naval-stereo",
   "metadata": {},
   "source": [
    "## review 유사도 top-N 검색"
   ]
  },
  {
   "cell_type": "code",
   "execution_count": 38,
   "id": "approximate-perry",
   "metadata": {},
   "outputs": [],
   "source": [
    "def my_search_cossim_by_review(title = \"Toy Story\", topn=10):\n",
    "    # 인덱스 출력하기\n",
    "    s = mldf['title']\n",
    "    title_s = pd.Series(s.index, index = s.values) # 값 <--> 인덱스 변경\n",
    "    idx = title_s[title]\n",
    "    idx_list = pd.Series(cos_sim[idx].reshape(-1)).sort_values(ascending = False).index[1:topn+1] # 0번재는 본인. 1~10번째\n",
    "    title_list = mldf.loc[idx_list,'title'].values\n",
    "    return title_list"
   ]
  },
  {
   "cell_type": "code",
   "execution_count": 39,
   "id": "liable-harrison",
   "metadata": {},
   "outputs": [
    {
     "data": {
      "text/html": [
       "<div>\n",
       "<style scoped>\n",
       "    .dataframe tbody tr th:only-of-type {\n",
       "        vertical-align: middle;\n",
       "    }\n",
       "\n",
       "    .dataframe tbody tr th {\n",
       "        vertical-align: top;\n",
       "    }\n",
       "\n",
       "    .dataframe thead th {\n",
       "        text-align: right;\n",
       "    }\n",
       "</style>\n",
       "<table border=\"1\" class=\"dataframe\">\n",
       "  <thead>\n",
       "    <tr style=\"text-align: right;\">\n",
       "      <th></th>\n",
       "      <th>tagline</th>\n",
       "      <th>title</th>\n",
       "    </tr>\n",
       "  </thead>\n",
       "  <tbody>\n",
       "    <tr>\n",
       "      <th>0</th>\n",
       "      <td></td>\n",
       "      <td>Toy Story</td>\n",
       "    </tr>\n",
       "    <tr>\n",
       "      <th>2499</th>\n",
       "      <td>The toys are back!</td>\n",
       "      <td>Toy Story 2</td>\n",
       "    </tr>\n",
       "    <tr>\n",
       "      <th>7539</th>\n",
       "      <td>No toy gets left behind.</td>\n",
       "      <td>Toy Story 3</td>\n",
       "    </tr>\n",
       "    <tr>\n",
       "      <th>8416</th>\n",
       "      <td>One toy gets left behind!</td>\n",
       "      <td>Toy Story of Terror!</td>\n",
       "    </tr>\n",
       "  </tbody>\n",
       "</table>\n",
       "</div>"
      ],
      "text/plain": [
       "                        tagline                 title\n",
       "0                                           Toy Story\n",
       "2499         The toys are back!           Toy Story 2\n",
       "7539   No toy gets left behind.           Toy Story 3\n",
       "8416  One toy gets left behind!  Toy Story of Terror!"
      ]
     },
     "execution_count": 39,
     "metadata": {},
     "output_type": "execute_result"
    }
   ],
   "source": [
    "mldf[mldf['title'].str.contains('Toy Story')][[ 'tagline', 'title']]"
   ]
  },
  {
   "cell_type": "code",
   "execution_count": 40,
   "id": "representative-trinidad",
   "metadata": {},
   "outputs": [
    {
     "data": {
      "text/plain": [
       "array(['Toy Story 3', 'Toy Story 2', 'The 40 Year Old Virgin',\n",
       "       'Man on the Moon', \"What's Up, Tiger Lily?\"], dtype=object)"
      ]
     },
     "execution_count": 40,
     "metadata": {},
     "output_type": "execute_result"
    }
   ],
   "source": [
    "res = my_search_cossim_by_review('Toy Story',5)\n",
    "res"
   ]
  },
  {
   "cell_type": "markdown",
   "id": "delayed-fraction",
   "metadata": {},
   "source": [
    "## 최종코드"
   ]
  },
  {
   "cell_type": "markdown",
   "id": "blond-employer",
   "metadata": {},
   "source": [
    "# Actor, Driect... based"
   ]
  },
  {
   "cell_type": "markdown",
   "id": "earned-oriental",
   "metadata": {},
   "source": [
    "credit.csv\n",
    "* cast<br>\n",
    "<pre>\n",
    "[{'cast_id': 14, 'character': 'Woody (voice)', 'credit_id': '52fe4284c3a36847f8024f95', 'gender': 2, 'id': 31, 'name': 'Tom Hanks', 'order': 0, 'profile_path': '/pQFoyx7rp09CJTAb932F2g8Nlho.jpg'},\n",
    " {'cast_id': 15, 'character': 'Buzz Lightyear (voice)', 'credit_id': '52fe4284c3a36847f8024f99', 'gender': 2, 'id': 12898, 'name': 'Tim Allen', 'order': 1, 'profile_path': '/uX2xVf6pMmPepxnvFWyBtjexzgY.jpg'}\n",
    "]</pre>\n",
    "\n",
    "* craw <br>\n",
    "[{'credit_id': '52fe4284c3a36847f8024f49', 'department': 'Directing', 'gender': 2, 'id': 7879, 'job': 'Director', 'name': 'John Lasseter', 'profile_path': '/7EdqiNbr4FRjIhKHyPPdFfEEEFG.jpg'}, \n",
    " {'credit_id': '52fe4284c3a36847f8024f4f', 'department': 'Writing', 'gender': 2, 'id': 12891, 'job': 'Screenplay', 'name': 'Joss Whedon', 'profile_path': '/dTiVsuaTVTeGmvkhcyJvKp2A5kr.jpg'},]\n",
    "\n",
    "keywords.csv\n",
    "* keywords<br>\n",
    "<pre>\n",
    "[{'id': 931, 'name': 'jealousy'}, {'id': 4290, 'name': 'toy'}, {'id': 5202, 'name': 'boy'},]\n"
   ]
  },
  {
   "cell_type": "markdown",
   "id": "funded-occasion",
   "metadata": {},
   "source": [
    "## Data Load"
   ]
  },
  {
   "cell_type": "code",
   "execution_count": 41,
   "id": "familiar-automation",
   "metadata": {},
   "outputs": [],
   "source": [
    "cdf = pd.read_csv(\"./dataset/credits.csv\")\n",
    "kdf = pd.read_csv(\"./dataset/keywords.csv\")"
   ]
  },
  {
   "cell_type": "code",
   "execution_count": 42,
   "id": "smooth-stationery",
   "metadata": {},
   "outputs": [
    {
     "name": "stdout",
     "output_type": "stream",
     "text": [
      "(45476, 3)\n",
      "<class 'pandas.core.frame.DataFrame'>\n",
      "RangeIndex: 45476 entries, 0 to 45475\n",
      "Data columns (total 3 columns):\n",
      " #   Column  Non-Null Count  Dtype \n",
      "---  ------  --------------  ----- \n",
      " 0   cast    45476 non-null  object\n",
      " 1   crew    45476 non-null  object\n",
      " 2   id      45476 non-null  int64 \n",
      "dtypes: int64(1), object(2)\n",
      "memory usage: 1.0+ MB\n",
      "None\n"
     ]
    }
   ],
   "source": [
    "print(cdf.shape)\n",
    "print(cdf.info())\n",
    "# cdf.head(1)"
   ]
  },
  {
   "cell_type": "code",
   "execution_count": 43,
   "id": "instant-evolution",
   "metadata": {},
   "outputs": [
    {
     "name": "stdout",
     "output_type": "stream",
     "text": [
      "(46419, 2)\n",
      "<class 'pandas.core.frame.DataFrame'>\n",
      "RangeIndex: 46419 entries, 0 to 46418\n",
      "Data columns (total 2 columns):\n",
      " #   Column    Non-Null Count  Dtype \n",
      "---  ------    --------------  ----- \n",
      " 0   id        46419 non-null  int64 \n",
      " 1   keywords  46419 non-null  object\n",
      "dtypes: int64(1), object(1)\n",
      "memory usage: 725.4+ KB\n",
      "None\n"
     ]
    },
    {
     "data": {
      "text/html": [
       "<div>\n",
       "<style scoped>\n",
       "    .dataframe tbody tr th:only-of-type {\n",
       "        vertical-align: middle;\n",
       "    }\n",
       "\n",
       "    .dataframe tbody tr th {\n",
       "        vertical-align: top;\n",
       "    }\n",
       "\n",
       "    .dataframe thead th {\n",
       "        text-align: right;\n",
       "    }\n",
       "</style>\n",
       "<table border=\"1\" class=\"dataframe\">\n",
       "  <thead>\n",
       "    <tr style=\"text-align: right;\">\n",
       "      <th></th>\n",
       "      <th>id</th>\n",
       "      <th>keywords</th>\n",
       "    </tr>\n",
       "  </thead>\n",
       "  <tbody>\n",
       "    <tr>\n",
       "      <th>0</th>\n",
       "      <td>862</td>\n",
       "      <td>[{'id': 931, 'name': 'jealousy'}, {'id': 4290, 'name': 'toy'}, {'id': 5202, 'name': 'boy'}, {'id': 6054, 'name': 'friendship'}, {'id': 9713, 'name': 'friends'}, {'id': 9823, 'name': 'rivalry'}, {'id': 165503, 'name': 'boy next door'}, {'id': 170722, 'name': 'new toy'}, {'id': 187065, 'name': 'toy comes to life'}]</td>\n",
       "    </tr>\n",
       "  </tbody>\n",
       "</table>\n",
       "</div>"
      ],
      "text/plain": [
       "    id  \\\n",
       "0  862   \n",
       "\n",
       "                                                                                                                                                                                                                                                                                                                     keywords  \n",
       "0  [{'id': 931, 'name': 'jealousy'}, {'id': 4290, 'name': 'toy'}, {'id': 5202, 'name': 'boy'}, {'id': 6054, 'name': 'friendship'}, {'id': 9713, 'name': 'friends'}, {'id': 9823, 'name': 'rivalry'}, {'id': 165503, 'name': 'boy next door'}, {'id': 170722, 'name': 'new toy'}, {'id': 187065, 'name': 'toy comes to life'}]  "
      ]
     },
     "execution_count": 43,
     "metadata": {},
     "output_type": "execute_result"
    }
   ],
   "source": [
    "print(kdf.shape)\n",
    "print(kdf.info())\n",
    "kdf.head(1)"
   ]
  },
  {
   "cell_type": "markdown",
   "id": "objective-senator",
   "metadata": {},
   "source": [
    "## mldf = mdf + ldf + cdf + kdf  JOIN"
   ]
  },
  {
   "cell_type": "code",
   "execution_count": 44,
   "id": "described-straight",
   "metadata": {},
   "outputs": [],
   "source": [
    "mldf = mldf.merge(cdf, on='id')\n",
    "mldf = mldf.merge(kdf, on='id')  #cast\tcrew\tkeywords 추가"
   ]
  },
  {
   "cell_type": "code",
   "execution_count": 45,
   "id": "meaning-deposit",
   "metadata": {},
   "outputs": [],
   "source": [
    "# mldf.head(1)"
   ]
  },
  {
   "cell_type": "code",
   "execution_count": 46,
   "id": "according-jonathan",
   "metadata": {},
   "outputs": [
    {
     "data": {
      "text/plain": [
       "(9207, 33)"
      ]
     },
     "execution_count": 46,
     "metadata": {},
     "output_type": "execute_result"
    }
   ],
   "source": [
    "mldf.shape"
   ]
  },
  {
   "cell_type": "markdown",
   "id": "combined-legend",
   "metadata": {},
   "source": [
    "## 가공\n",
    "* <b>str --> list 객체타입으로 변경   :  .apply(literal_eval)</b>\n",
    "<pre>\n",
    "* cast  {name': 'Tom Hanks' }\n",
    "[{'cast_id': 14, 'character': 'Woody (voice)', 'credit_id': '52fe4284c3a36847f8024f95', 'gender': 2, 'id': 31, 'name': 'Tom Hanks', 'order': 0, 'profile_path': '/pQFoyx7rp09CJTAb932F2g8Nlho.jpg'},\n",
    "\n",
    "* craw  {'job': 'Director', 'name': 'John Lasseter'}\n",
    " [{'credit_id': '52fe4284c3a36847f8024f49', 'department': 'Directing', 'gender': 2, 'id': 7879, 'job': 'Director', 'name': 'John Lasseter', 'profile_path': '/7EdqiNbr4FRjIhKHyPPdFfEEEFG.jpg'}, {'credit_id': '52fe4284c3a36847f8024f4f', 'department': 'Writing', 'gender': 2, 'id': 12891, 'job': 'Screenplay', 'name': 'Joss Whedon', 'profile_path': '/dTiVsuaTVTeGmvkhcyJvKp2A5kr.jpg'},]\n",
    "\n",
    "*  keywords {'name': 'jealousy'}\n",
    " [{'id': 931, 'name': 'jealousy'},]\n",
    " \n",
    " * genres"
   ]
  },
  {
   "cell_type": "code",
   "execution_count": 47,
   "id": "boolean-damage",
   "metadata": {},
   "outputs": [
    {
     "data": {
      "text/plain": [
       "str"
      ]
     },
     "execution_count": 47,
     "metadata": {},
     "output_type": "execute_result"
    }
   ],
   "source": [
    "type(mldf.loc[0, 'keywords'])"
   ]
  },
  {
   "cell_type": "code",
   "execution_count": 48,
   "id": "framed-salmon",
   "metadata": {},
   "outputs": [],
   "source": [
    "mldf['cast']     = mldf['cast'].apply(literal_eval)      #배우\n",
    "mldf['crew']     = mldf['crew'].apply(literal_eval)      #감독\n",
    "mldf['keywords'] = mldf['keywords'].apply(literal_eval)  #대표키워드\n",
    "mldf['genres']   = mldf['genres'].apply(literal_eval)    #장르"
   ]
  },
  {
   "cell_type": "code",
   "execution_count": 49,
   "id": "trying-alabama",
   "metadata": {},
   "outputs": [
    {
     "data": {
      "text/plain": [
       "(list,\n",
       " [{'id': 931, 'name': 'jealousy'},\n",
       "  {'id': 4290, 'name': 'toy'},\n",
       "  {'id': 5202, 'name': 'boy'}])"
      ]
     },
     "execution_count": 49,
     "metadata": {},
     "output_type": "execute_result"
    }
   ],
   "source": [
    "type(mldf.loc[0, 'keywords']),  mldf.loc[0, 'keywords'][:3]"
   ]
  },
  {
   "cell_type": "markdown",
   "id": "weird-dubai",
   "metadata": {},
   "source": [
    "## 파생변수 \n",
    "* BoW = [감독] + [배우] + [장르] + [키워드]\n",
    "* Tf-Idf : 유사도"
   ]
  },
  {
   "cell_type": "markdown",
   "id": "hawaiian-springer",
   "metadata": {},
   "source": [
    "###  감독 : mldf['director']"
   ]
  },
  {
   "cell_type": "code",
   "execution_count": 50,
   "id": "unknown-lease",
   "metadata": {},
   "outputs": [],
   "source": [
    "def my_get_director_def(s):       #[{'job': 'Director', 'name': 'John Lasseter'} , .... ]\n",
    "    for dict in s:                #{'job': 'Director', 'name': 'John Lasseter'}\n",
    "        if dict['job'] == 'Director':\n",
    "            dict['name'] = dict['name'].replace(' ', '')\n",
    "            return [dict['name'].lower()]  # [john lasseter]\n",
    "    return np.nan"
   ]
  },
  {
   "cell_type": "code",
   "execution_count": 51,
   "id": "beautiful-helping",
   "metadata": {},
   "outputs": [],
   "source": [
    "mldf['director'] = mldf['crew'].apply(my_get_director_def)"
   ]
  },
  {
   "cell_type": "code",
   "execution_count": 52,
   "id": "minute-antique",
   "metadata": {},
   "outputs": [
    {
     "data": {
      "text/plain": [
       "0      [johnlasseter]\n",
       "1       [joejohnston]\n",
       "2      [howarddeutch]\n",
       "3    [forestwhitaker]\n",
       "4      [charlesshyer]\n",
       "Name: director, dtype: object"
      ]
     },
     "execution_count": 52,
     "metadata": {},
     "output_type": "execute_result"
    }
   ],
   "source": [
    "mldf['director'].head()"
   ]
  },
  {
   "cell_type": "markdown",
   "id": "expressed-lodge",
   "metadata": {},
   "source": [
    "###  배우 : mldf['actor']"
   ]
  },
  {
   "cell_type": "code",
   "execution_count": 53,
   "id": "center-today",
   "metadata": {},
   "outputs": [],
   "source": [
    "def my_get_name_def(s):      \n",
    "    cast_list = []\n",
    "    for dict in s:           \n",
    "        dict['name'] = dict['name'].replace(' ', '')\n",
    "        cast_list.append(dict['name'].lower())\n",
    "    return cast_list[:3]"
   ]
  },
  {
   "cell_type": "code",
   "execution_count": 54,
   "id": "hairy-chest",
   "metadata": {},
   "outputs": [],
   "source": [
    "mldf['actor'] = mldf['cast'].apply(my_get_name_def)"
   ]
  },
  {
   "cell_type": "code",
   "execution_count": 55,
   "id": "binary-motel",
   "metadata": {},
   "outputs": [
    {
     "data": {
      "text/plain": [
       "0                  [tomhanks, timallen, donrickles]\n",
       "1       [robinwilliams, jonathanhyde, kirstendunst]\n",
       "2          [waltermatthau, jacklemmon, ann-margret]\n",
       "3    [whitneyhouston, angelabassett, lorettadevine]\n",
       "4           [stevemartin, dianekeaton, martinshort]\n",
       "Name: actor, dtype: object"
      ]
     },
     "execution_count": 55,
     "metadata": {},
     "output_type": "execute_result"
    }
   ],
   "source": [
    "mldf['actor'].head()"
   ]
  },
  {
   "cell_type": "markdown",
   "id": "smoking-second",
   "metadata": {},
   "source": [
    "### 키워드 : mldf['key']"
   ]
  },
  {
   "cell_type": "code",
   "execution_count": 56,
   "id": "fluid-wilson",
   "metadata": {},
   "outputs": [],
   "source": [
    "mldf['key'] = mldf['keywords'].apply(my_get_name_def)"
   ]
  },
  {
   "cell_type": "code",
   "execution_count": 57,
   "id": "split-museum",
   "metadata": {},
   "outputs": [
    {
     "data": {
      "text/plain": [
       "0                                     [jealousy, toy, boy]\n",
       "1        [boardgame, disappearance, basedonchildren'sbook]\n",
       "2              [fishing, bestfriend, duringcreditsstinger]\n",
       "3    [basedonnovel, interracialrelationship, singlemother]\n",
       "4                        [baby, midlifecrisis, confidence]\n",
       "Name: key, dtype: object"
      ]
     },
     "execution_count": 57,
     "metadata": {},
     "output_type": "execute_result"
    }
   ],
   "source": [
    "mldf['key'].head()"
   ]
  },
  {
   "cell_type": "markdown",
   "id": "burning-joyce",
   "metadata": {},
   "source": [
    "###  장르"
   ]
  },
  {
   "cell_type": "code",
   "execution_count": 58,
   "id": "multiple-increase",
   "metadata": {},
   "outputs": [
    {
     "data": {
      "text/plain": [
       "0     [Animation, Comedy, Family]\n",
       "1    [Adventure, Fantasy, Family]\n",
       "2               [Romance, Comedy]\n",
       "3        [Comedy, Drama, Romance]\n",
       "4                        [Comedy]\n",
       "Name: genres, dtype: object"
      ]
     },
     "execution_count": 58,
     "metadata": {},
     "output_type": "execute_result"
    }
   ],
   "source": [
    "mldf['genres'].head()"
   ]
  },
  {
   "cell_type": "markdown",
   "id": "valued-victorian",
   "metadata": {},
   "source": [
    "### 합치기 : mldf['search4']"
   ]
  },
  {
   "cell_type": "code",
   "execution_count": 59,
   "id": "vocational-burton",
   "metadata": {},
   "outputs": [
    {
     "data": {
      "text/plain": [
       "0                                                  [johnlasseter, tomhanks, timallen, donrickles, jealousy, toy, boy, Animation, Comedy, Family]\n",
       "1          [joejohnston, robinwilliams, jonathanhyde, kirstendunst, boardgame, disappearance, basedonchildren'sbook, Adventure, Fantasy, Family]\n",
       "2                             [howarddeutch, waltermatthau, jacklemmon, ann-margret, fishing, bestfriend, duringcreditsstinger, Romance, Comedy]\n",
       "3    [forestwhitaker, whitneyhouston, angelabassett, lorettadevine, basedonnovel, interracialrelationship, singlemother, Comedy, Drama, Romance]\n",
       "4                                                 [charlesshyer, stevemartin, dianekeaton, martinshort, baby, midlifecrisis, confidence, Comedy]\n",
       "Name: search4, dtype: object"
      ]
     },
     "execution_count": 59,
     "metadata": {},
     "output_type": "execute_result"
    }
   ],
   "source": [
    "# mldf['search4'] =  mldf['director'] + mldf['actor'] + mldf['key'] + mldf['genres']\n",
    "mldf['search4'] = mldf['director'] + mldf['actor'] + mldf['key'] + mldf['genres']\n",
    "mldf['search4'].head()"
   ]
  },
  {
   "cell_type": "code",
   "execution_count": null,
   "id": "polish-clause",
   "metadata": {},
   "outputs": [],
   "source": []
  },
  {
   "cell_type": "markdown",
   "id": "subtle-preserve",
   "metadata": {},
   "source": [
    "---\n",
    "<font size=4><b> review  유사도와 이하 상동\n",
    "\n",
    "---"
   ]
  },
  {
   "cell_type": "markdown",
   "id": "cultural-hello",
   "metadata": {},
   "source": [
    "## 유사도 "
   ]
  },
  {
   "cell_type": "code",
   "execution_count": 60,
   "id": "serial-mailman",
   "metadata": {},
   "outputs": [
    {
     "data": {
      "text/plain": [
       "list"
      ]
     },
     "execution_count": 60,
     "metadata": {},
     "output_type": "execute_result"
    }
   ],
   "source": [
    "type(mldf.loc[0, 'search4'])"
   ]
  },
  {
   "cell_type": "code",
   "execution_count": 61,
   "id": "enormous-flush",
   "metadata": {},
   "outputs": [],
   "source": [
    "mldf['search4'] = mldf['search4'].astype('str')"
   ]
  },
  {
   "cell_type": "code",
   "execution_count": 62,
   "id": "fifth-alarm",
   "metadata": {},
   "outputs": [
    {
     "name": "stdout",
     "output_type": "stream",
     "text": [
      "(9207, 18789)\n"
     ]
    },
    {
     "data": {
      "text/plain": [
       "array([1.        , 0.09534626, 0.1       , 0.1       , 0.1118034 ,\n",
       "       0.        , 0.10540926, 0.1118034 , 0.        , 0.        ,\n",
       "       0.09534626, 0.1       , 0.19069252, 0.        , 0.        ,\n",
       "       0.        , 0.        , 0.1       , 0.1       , 0.1       ])"
      ]
     },
     "execution_count": 62,
     "metadata": {},
     "output_type": "execute_result"
    }
   ],
   "source": [
    "tfidf = CountVectorizer() #, max_df=0.8, min_df=0.2)  ngram_range=(1, 2)\n",
    "matrix = tfidf.fit_transform(mldf['search4'])\n",
    "print(matrix.shape)\n",
    "\n",
    "cos_sim = cosine_similarity(matrix, matrix)\n",
    "cos_sim[0][:20]\n"
   ]
  },
  {
   "cell_type": "markdown",
   "id": "theoretical-notion",
   "metadata": {},
   "source": [
    "## 영화 제목 색인 시리즈 생성\n",
    "* 제목을 입력하면 (idx)번째 출력"
   ]
  },
  {
   "cell_type": "code",
   "execution_count": 63,
   "id": "charged-birthday",
   "metadata": {},
   "outputs": [
    {
     "data": {
      "text/plain": [
       "Toy Story                      0\n",
       "Jumanji                        1\n",
       "Grumpier Old Men               2\n",
       "Waiting to Exhale              3\n",
       "Father of the Bride Part II    4\n",
       "Heat                           5\n",
       "Sabrina                        6\n",
       "Tom and Huck                   7\n",
       "Sudden Death                   8\n",
       "GoldenEye                      9\n",
       "dtype: int64"
      ]
     },
     "execution_count": 63,
     "metadata": {},
     "output_type": "execute_result"
    }
   ],
   "source": [
    "s  = mldf['title']\n",
    "title_s = pd.Series(s.index, index=s.values)  # 값 <--> 인덱스 서로 자리 변경\n",
    "title_s.head(10)"
   ]
  },
  {
   "cell_type": "markdown",
   "id": "unexpected-ocean",
   "metadata": {},
   "source": [
    "## review 유사도 top-N 검색"
   ]
  },
  {
   "cell_type": "code",
   "execution_count": 64,
   "id": "prepared-communications",
   "metadata": {},
   "outputs": [],
   "source": [
    "def my_search_cossim_by_search4(title = \"Toy Story\", topn=10):\n",
    "    # 인덱스 출력하기\n",
    "    s =  mldf['title']\n",
    "    title_s = pd.Series(s.index, index = s.values) # 값 <--> 인덱스 변경\n",
    "    idx = title_s[title]\n",
    "    print(idx)\n",
    "    idx_list = pd.Series(cos_sim[idx].reshape(-1)).sort_values(ascending = False).index[1:topn+1] # 0번재는 본인. 1~10번째\n",
    "    title_list = mldf.loc[idx_list,'title'].values\n",
    "    return title_list"
   ]
  },
  {
   "cell_type": "code",
   "execution_count": 65,
   "id": "offensive-ballot",
   "metadata": {},
   "outputs": [
    {
     "name": "stdout",
     "output_type": "stream",
     "text": [
      "0\n"
     ]
    },
    {
     "data": {
      "text/plain": [
       "array(['Toy Story 3', 'Toy Story 2', 'Toy Story of Terror!',\n",
       "       'Creature Comforts', 'Cars 2'], dtype=object)"
      ]
     },
     "execution_count": 65,
     "metadata": {},
     "output_type": "execute_result"
    }
   ],
   "source": [
    "res = my_search_cossim_by_search4('Toy Story',5)   #Batman Forever\n",
    "res"
   ]
  },
  {
   "cell_type": "markdown",
   "id": "published-mirror",
   "metadata": {},
   "source": [
    "## 검증"
   ]
  },
  {
   "cell_type": "code",
   "execution_count": 66,
   "id": "relative-symposium",
   "metadata": {},
   "outputs": [
    {
     "data": {
      "text/plain": [
       "title                                                                                                              Toy Story\n",
       "search4    ['johnlasseter', 'tomhanks', 'timallen', 'donrickles', 'jealousy', 'toy', 'boy', 'Animation', 'Comedy', 'Family']\n",
       "Name: 0, dtype: object"
      ]
     },
     "execution_count": 66,
     "metadata": {},
     "output_type": "execute_result"
    }
   ],
   "source": [
    "mldf.loc[0, ['title','search4']]"
   ]
  },
  {
   "cell_type": "code",
   "execution_count": 67,
   "id": "spiritual-floating",
   "metadata": {},
   "outputs": [
    {
     "name": "stdout",
     "output_type": "stream",
     "text": [
      "[['Toy Story 3'\n",
      "  \"['leeunkrich', 'tomhanks', 'timallen', 'nedbeatty', 'hostage', 'college', 'toy', 'Animation', 'Family', 'Comedy']\"]]\n",
      "[['Toy Story 2'\n",
      "  \"['johnlasseter', 'tomhanks', 'timallen', 'joancusack', 'museum', 'prosecution', 'identitycrisis', 'Animation', 'Comedy', 'Family']\"]]\n",
      "[['Toy Story of Terror!'\n",
      "  \"['angusmaclane', 'tomhanks', 'timallen', 'kristenschaal', 'halloween', 'toys', 'short', 'Animation', 'Comedy', 'Family']\"]]\n",
      "[['Creature Comforts'\n",
      "  \"['nickpark', 'animation', 'Animation', 'Comedy', 'Family']\"]]\n",
      "[['Cars 2'\n",
      "  \"['johnlasseter', 'owenwilson', 'larrythecableguy', 'michaelcaine', 'carrace', 'sequel', 'comedy', 'Animation', 'Family', 'Adventure', 'Comedy']\"]]\n"
     ]
    }
   ],
   "source": [
    "for r in res :\n",
    "    print(mldf[mldf['title']==r][['title','search4']].values)"
   ]
  },
  {
   "cell_type": "markdown",
   "id": "running-tract",
   "metadata": {},
   "source": [
    "## 최종코드"
   ]
  }
 ],
 "metadata": {
  "kernelspec": {
   "display_name": "Python 3",
   "language": "python",
   "name": "python3"
  },
  "language_info": {
   "codemirror_mode": {
    "name": "ipython",
    "version": 3
   },
   "file_extension": ".py",
   "mimetype": "text/x-python",
   "name": "python",
   "nbconvert_exporter": "python",
   "pygments_lexer": "ipython3",
   "version": "3.8.0"
  },
  "toc-autonumbering": true
 },
 "nbformat": 4,
 "nbformat_minor": 5
}
